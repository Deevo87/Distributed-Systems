{
 "cells": [
  {
   "cell_type": "markdown",
   "id": "29fc23d010892547",
   "metadata": {
    "collapsed": false
   },
   "source": [
    "# AGH DS Laboratory 3 - Actor Model with Ray Framework\n",
    "\n",
    "## Introduction\n",
    "\n",
    "Ray is a general-purpose framework for programming a cluster made by UC Berkeley's RISELab. It enables developers to easily parallelize their Python applications or build new ones, and run them at any scale, from a laptop to a large cluster. It also provides a highly flexible, yet minimalist and easy to use API. \n",
    "\n",
    "#### Documentation Reference Links:\n",
    "\n",
    "Ray official website: https://rise.cs.berkeley.edu/projects/ray/\n",
    "\n",
    "Ray documentation website: http://ray.readthedocs.io/en/latest/\n",
    "\n",
    "GitHub repository: https://github.com/ray-project/ray\n",
    "\n",
    "### Installation\n",
    "Please follow the instructions:\n",
    "\n",
    "Installation: https://docs.ray.io/en/latest/ray-overview/installation.html\n"
   ]
  },
  {
   "cell_type": "markdown",
   "id": "997d0555744a1e39",
   "metadata": {
    "collapsed": false
   },
   "source": [
    "***\n",
    "## Part 1 - Remote Functions\n",
    "\n",
    "This script is too slow, and the computation is embarrassingly parallel. In this exercise, you will use Ray to execute the functions in parallel to speed it up.\n",
    "\n",
    "The standard way to turn a Python function into a remote function is to add the `@ray.remote` decorator. Here is an example.\n",
    "\n",
    "```python\n",
    "# A regular Python function.\n",
    "def regular_function(x):\n",
    "    return x + 1\n",
    "\n",
    "# A Ray remote function.\n",
    "@ray.remote\n",
    "def remote_function(x):\n",
    "    return x + 1\n",
    "```\n",
    "\n",
    "The differences are the following:\n",
    "\n",
    "1. **Invocation:** The regular version is called with `regular_function(1)`, whereas the remote version is called with `remote_function.remote(1)`.\n",
    "2. **Return values:** `regular_function` immediately executes and returns `1`, whereas `remote_function` immediately returns an object ID (a future) and then creates a task that will be executed on a worker process. The result can be obtained with `ray.get`.\n",
    "    ```python\n",
    "    >>> regular_function(0)\n",
    "    1\n",
    "    \n",
    "    >>> remote_function.remote(0)\n",
    "    ObjectID(1c80d6937802cd7786ad25e50caf2f023c95e350)\n",
    "    \n",
    "    >>> ray.get(remote_function.remote(0))\n",
    "    1\n",
    "    ```\n",
    "3. **Parallelism:** Invocations of `regular_function` happen **serially**, for example\n",
    "    ```python\n",
    "    # These happen serially.\n",
    "    for _ in range(4):\n",
    "        regular_function(0)\n",
    "    ```\n",
    "    whereas invocations of `remote_function` happen in **parallel**, for example\n",
    "    ```python\n",
    "    # These happen in parallel.\n",
    "    for _ in range(4):\n",
    "        remote_function.remote(0)\n",
    "    ```"
   ]
  },
  {
   "cell_type": "code",
   "execution_count": 1,
   "id": "191f3b456acd32fc",
   "metadata": {
    "collapsed": false
   },
   "outputs": [
    {
     "name": "stderr",
     "output_type": "stream",
     "text": [
      "2024-04-22 11:42:16,025\tINFO util.py:154 -- Missing packages: ['ipywidgets']. Run `pip install -U ipywidgets`, then restart the notebook server for rich notebook output.\n"
     ]
    }
   ],
   "source": [
    "from __future__ import absolute_import\n",
    "from __future__ import division\n",
    "from __future__ import print_function\n",
    "\n",
    "import ray\n",
    "import time\n",
    "import numpy as np\n",
    "from numpy import random\n",
    "import os\n",
    "import pickle\n",
    "import math\n",
    "import time"
   ]
  },
  {
   "cell_type": "markdown",
   "id": "97096b3f4c6c556c",
   "metadata": {
    "collapsed": false
   },
   "source": [
    "Start Ray. By default, Ray does not schedule more tasks concurrently than there are CPUs. This example requires four tasks to run concurrently, so we tell Ray that there are four CPUs. Usually this is not done and Ray computes the number of CPUs using `psutil.cpu_count()`. The argument `ignore_reinit_error=True` just ignores errors if the cell is run multiple times.\n",
    "\n",
    "The call to `ray.init` starts a number of processes."
   ]
  },
  {
   "cell_type": "code",
   "execution_count": 2,
   "id": "ef22f58f35121d5d",
   "metadata": {
    "collapsed": false
   },
   "outputs": [
    {
     "name": "stderr",
     "output_type": "stream",
     "text": [
      "2024-04-20 13:54:19,920\tINFO worker.py:1752 -- Started a local Ray instance.\n"
     ]
    },
    {
     "data": {
      "text/html": [
       "<div class=\"lm-Widget p-Widget lm-Panel p-Panel jp-Cell-outputWrapper\">\n",
       "    <div style=\"margin-left: 50px;display: flex;flex-direction: row;align-items: center\">\n",
       "        <div class=\"jp-RenderedHTMLCommon\" style=\"display: flex; flex-direction: row;\">\n",
       "  <svg viewBox=\"0 0 567 224\" fill=\"none\" xmlns=\"http://www.w3.org/2000/svg\" style=\"height: 3em;\">\n",
       "    <g clip-path=\"url(#clip0_4338_178347)\">\n",
       "        <path d=\"M341.29 165.561H355.29L330.13 129.051C345.63 123.991 354.21 112.051 354.21 94.2307C354.21 71.3707 338.72 58.1807 311.88 58.1807H271V165.561H283.27V131.661H311.8C314.25 131.661 316.71 131.501 319.01 131.351L341.25 165.561H341.29ZM283.29 119.851V70.0007H311.82C331.3 70.0007 342.34 78.2907 342.34 94.5507C342.34 111.271 331.34 119.861 311.82 119.861L283.29 119.851ZM451.4 138.411L463.4 165.561H476.74L428.74 58.1807H416L367.83 165.561H380.83L392.83 138.411H451.4ZM446.19 126.601H398L422 72.1407L446.24 126.601H446.19ZM526.11 128.741L566.91 58.1807H554.35L519.99 114.181L485.17 58.1807H472.44L514.01 129.181V165.541H526.13V128.741H526.11Z\" fill=\"var(--jp-ui-font-color0)\"/>\n",
       "        <path d=\"M82.35 104.44C84.0187 97.8827 87.8248 92.0678 93.1671 87.9146C98.5094 83.7614 105.083 81.5067 111.85 81.5067C118.617 81.5067 125.191 83.7614 130.533 87.9146C135.875 92.0678 139.681 97.8827 141.35 104.44H163.75C164.476 101.562 165.622 98.8057 167.15 96.2605L127.45 56.5605C121.071 60.3522 113.526 61.6823 106.235 60.3005C98.9443 58.9187 92.4094 54.9203 87.8602 49.0574C83.3109 43.1946 81.0609 35.8714 81.5332 28.4656C82.0056 21.0599 85.1679 14.0819 90.4252 8.8446C95.6824 3.60726 102.672 0.471508 110.08 0.0272655C117.487 -0.416977 124.802 1.86091 130.647 6.4324C136.493 11.0039 140.467 17.5539 141.821 24.8501C143.175 32.1463 141.816 39.6859 138 46.0505L177.69 85.7505C182.31 82.9877 187.58 81.4995 192.962 81.4375C198.345 81.3755 203.648 82.742 208.33 85.3976C213.012 88.0532 216.907 91.9029 219.616 96.5544C222.326 101.206 223.753 106.492 223.753 111.875C223.753 117.258 222.326 122.545 219.616 127.197C216.907 131.848 213.012 135.698 208.33 138.353C203.648 141.009 198.345 142.375 192.962 142.313C187.58 142.251 182.31 140.763 177.69 138L138 177.7C141.808 184.071 143.155 191.614 141.79 198.91C140.424 206.205 136.44 212.75 130.585 217.313C124.731 221.875 117.412 224.141 110.004 223.683C102.596 223.226 95.6103 220.077 90.3621 214.828C85.1139 209.58 81.9647 202.595 81.5072 195.187C81.0497 187.779 83.3154 180.459 87.878 174.605C92.4405 168.751 98.9853 164.766 106.281 163.401C113.576 162.035 121.119 163.383 127.49 167.19L167.19 127.49C165.664 124.941 164.518 122.182 163.79 119.3H141.39C139.721 125.858 135.915 131.673 130.573 135.826C125.231 139.98 118.657 142.234 111.89 142.234C105.123 142.234 98.5494 139.98 93.2071 135.826C87.8648 131.673 84.0587 125.858 82.39 119.3H60C58.1878 126.495 53.8086 132.78 47.6863 136.971C41.5641 141.163 34.1211 142.972 26.7579 142.059C19.3947 141.146 12.6191 137.574 7.70605 132.014C2.79302 126.454 0.0813599 119.29 0.0813599 111.87C0.0813599 104.451 2.79302 97.2871 7.70605 91.7272C12.6191 86.1673 19.3947 82.5947 26.7579 81.6817C34.1211 80.7686 41.5641 82.5781 47.6863 86.7696C53.8086 90.9611 58.1878 97.2456 60 104.44H82.35ZM100.86 204.32C103.407 206.868 106.759 208.453 110.345 208.806C113.93 209.159 117.527 208.258 120.522 206.256C123.517 204.254 125.725 201.276 126.771 197.828C127.816 194.38 127.633 190.677 126.253 187.349C124.874 184.021 122.383 181.274 119.205 179.577C116.027 177.88 112.359 177.337 108.826 178.042C105.293 178.746 102.113 180.654 99.8291 183.44C97.5451 186.226 96.2979 189.718 96.3 193.32C96.2985 195.364 96.7006 197.388 97.4831 199.275C98.2656 201.163 99.4132 202.877 100.86 204.32ZM204.32 122.88C206.868 120.333 208.453 116.981 208.806 113.396C209.159 109.811 208.258 106.214 206.256 103.219C204.254 100.223 201.275 98.0151 197.827 96.97C194.38 95.9249 190.676 96.1077 187.348 97.4873C184.02 98.8669 181.274 101.358 179.577 104.536C177.879 107.714 177.337 111.382 178.041 114.915C178.746 118.448 180.653 121.627 183.439 123.911C186.226 126.195 189.717 127.443 193.32 127.44C195.364 127.443 197.388 127.042 199.275 126.259C201.163 125.476 202.878 124.328 204.32 122.88ZM122.88 19.4205C120.333 16.8729 116.981 15.2876 113.395 14.9347C109.81 14.5817 106.213 15.483 103.218 17.4849C100.223 19.4868 98.0146 22.4654 96.9696 25.9131C95.9245 29.3608 96.1073 33.0642 97.4869 36.3922C98.8665 39.7202 101.358 42.4668 104.535 44.1639C107.713 45.861 111.381 46.4036 114.914 45.6992C118.447 44.9949 121.627 43.0871 123.911 40.301C126.195 37.515 127.442 34.0231 127.44 30.4205C127.44 28.3772 127.038 26.3539 126.255 24.4664C125.473 22.5788 124.326 20.8642 122.88 19.4205ZM19.42 100.86C16.8725 103.408 15.2872 106.76 14.9342 110.345C14.5813 113.93 15.4826 117.527 17.4844 120.522C19.4863 123.518 22.4649 125.726 25.9127 126.771C29.3604 127.816 33.0638 127.633 36.3918 126.254C39.7198 124.874 42.4664 122.383 44.1635 119.205C45.8606 116.027 46.4032 112.359 45.6988 108.826C44.9944 105.293 43.0866 102.114 40.3006 99.8296C37.5145 97.5455 34.0227 96.2983 30.42 96.3005C26.2938 96.3018 22.337 97.9421 19.42 100.86ZM100.86 100.86C98.3125 103.408 96.7272 106.76 96.3742 110.345C96.0213 113.93 96.9226 117.527 98.9244 120.522C100.926 123.518 103.905 125.726 107.353 126.771C110.8 127.816 114.504 127.633 117.832 126.254C121.16 124.874 123.906 122.383 125.604 119.205C127.301 116.027 127.843 112.359 127.139 108.826C126.434 105.293 124.527 102.114 121.741 99.8296C118.955 97.5455 115.463 96.2983 111.86 96.3005C109.817 96.299 107.793 96.701 105.905 97.4835C104.018 98.2661 102.303 99.4136 100.86 100.86Z\" fill=\"#00AEEF\"/>\n",
       "    </g>\n",
       "    <defs>\n",
       "        <clipPath id=\"clip0_4338_178347\">\n",
       "            <rect width=\"566.93\" height=\"223.75\" fill=\"white\"/>\n",
       "        </clipPath>\n",
       "    </defs>\n",
       "  </svg>\n",
       "</div>\n",
       "\n",
       "        <table class=\"jp-RenderedHTMLCommon\" style=\"border-collapse: collapse;color: var(--jp-ui-font-color1);font-size: var(--jp-ui-font-size1);\">\n",
       "    <tr>\n",
       "        <td style=\"text-align: left\"><b>Python version:</b></td>\n",
       "        <td style=\"text-align: left\"><b>3.10.12</b></td>\n",
       "    </tr>\n",
       "    <tr>\n",
       "        <td style=\"text-align: left\"><b>Ray version:</b></td>\n",
       "        <td style=\"text-align: left\"><b>2.10.0</b></td>\n",
       "    </tr>\n",
       "    \n",
       "</table>\n",
       "\n",
       "    </div>\n",
       "</div>\n"
      ],
      "text/plain": [
       "RayContext(dashboard_url='', python_version='3.10.12', ray_version='2.10.0', ray_commit='09abba26b5bf2707639bb637c208d062a47b46f6')"
      ]
     },
     "execution_count": 2,
     "metadata": {},
     "output_type": "execute_result"
    },
    {
     "name": "stderr",
     "output_type": "stream",
     "text": [
      "\u001b[33m(raylet)\u001b[0m [2024-04-20 13:54:29,831 E 36442 36464] (raylet) file_system_monitor.cc:111: /tmp/ray/session_2024-04-20_13-54-18_156773_36234 is over 95% full, available space: 2766049280; capacity: 77665726464. Object creation will fail if spilling is required.\n",
      "\u001b[33m(raylet)\u001b[0m [2024-04-20 13:54:39,841 E 36442 36464] (raylet) file_system_monitor.cc:111: /tmp/ray/session_2024-04-20_13-54-18_156773_36234 is over 95% full, available space: 2766012416; capacity: 77665726464. Object creation will fail if spilling is required.\n",
      "\u001b[33m(raylet)\u001b[0m [2024-04-20 13:54:49,851 E 36442 36464] (raylet) file_system_monitor.cc:111: /tmp/ray/session_2024-04-20_13-54-18_156773_36234 is over 95% full, available space: 2766016512; capacity: 77665726464. Object creation will fail if spilling is required.\n",
      "\u001b[33m(raylet)\u001b[0m [2024-04-20 13:54:59,862 E 36442 36464] (raylet) file_system_monitor.cc:111: /tmp/ray/session_2024-04-20_13-54-18_156773_36234 is over 95% full, available space: 2760777728; capacity: 77665726464. Object creation will fail if spilling is required.\n",
      "\u001b[33m(raylet)\u001b[0m [2024-04-20 13:55:09,870 E 36442 36464] (raylet) file_system_monitor.cc:111: /tmp/ray/session_2024-04-20_13-54-18_156773_36234 is over 95% full, available space: 2760642560; capacity: 77665726464. Object creation will fail if spilling is required.\n",
      "\u001b[33m(raylet)\u001b[0m [2024-04-20 13:55:19,880 E 36442 36464] (raylet) file_system_monitor.cc:111: /tmp/ray/session_2024-04-20_13-54-18_156773_36234 is over 95% full, available space: 2760589312; capacity: 77665726464. Object creation will fail if spilling is required.\n",
      "\u001b[33m(raylet)\u001b[0m [2024-04-20 13:55:29,892 E 36442 36464] (raylet) file_system_monitor.cc:111: /tmp/ray/session_2024-04-20_13-54-18_156773_36234 is over 95% full, available space: 2760540160; capacity: 77665726464. Object creation will fail if spilling is required.\n",
      "\u001b[33m(raylet)\u001b[0m [2024-04-20 13:55:39,904 E 36442 36464] (raylet) file_system_monitor.cc:111: /tmp/ray/session_2024-04-20_13-54-18_156773_36234 is over 95% full, available space: 2760531968; capacity: 77665726464. Object creation will fail if spilling is required.\n",
      "\u001b[33m(raylet)\u001b[0m [2024-04-20 13:55:49,918 E 36442 36464] (raylet) file_system_monitor.cc:111: /tmp/ray/session_2024-04-20_13-54-18_156773_36234 is over 95% full, available space: 2760495104; capacity: 77665726464. Object creation will fail if spilling is required.\n",
      "\u001b[33m(raylet)\u001b[0m [2024-04-20 13:55:59,930 E 36442 36464] (raylet) file_system_monitor.cc:111: /tmp/ray/session_2024-04-20_13-54-18_156773_36234 is over 95% full, available space: 2760478720; capacity: 77665726464. Object creation will fail if spilling is required.\n",
      "\u001b[33m(raylet)\u001b[0m [2024-04-20 13:56:09,940 E 36442 36464] (raylet) file_system_monitor.cc:111: /tmp/ray/session_2024-04-20_13-54-18_156773_36234 is over 95% full, available space: 2757603328; capacity: 77665726464. Object creation will fail if spilling is required.\n",
      "\u001b[33m(raylet)\u001b[0m [2024-04-20 13:56:19,949 E 36442 36464] (raylet) file_system_monitor.cc:111: /tmp/ray/session_2024-04-20_13-54-18_156773_36234 is over 95% full, available space: 2757554176; capacity: 77665726464. Object creation will fail if spilling is required.\n",
      "\u001b[33m(raylet)\u001b[0m [2024-04-20 13:56:29,961 E 36442 36464] (raylet) file_system_monitor.cc:111: /tmp/ray/session_2024-04-20_13-54-18_156773_36234 is over 95% full, available space: 2757488640; capacity: 77665726464. Object creation will fail if spilling is required.\n",
      "\u001b[33m(raylet)\u001b[0m [2024-04-20 13:56:39,971 E 36442 36464] (raylet) file_system_monitor.cc:111: /tmp/ray/session_2024-04-20_13-54-18_156773_36234 is over 95% full, available space: 2757341184; capacity: 77665726464. Object creation will fail if spilling is required.\n",
      "\u001b[33m(raylet)\u001b[0m [2024-04-20 13:56:49,982 E 36442 36464] (raylet) file_system_monitor.cc:111: /tmp/ray/session_2024-04-20_13-54-18_156773_36234 is over 95% full, available space: 2757402624; capacity: 77665726464. Object creation will fail if spilling is required.\n",
      "\u001b[33m(raylet)\u001b[0m [2024-04-20 13:56:59,996 E 36442 36464] (raylet) file_system_monitor.cc:111: /tmp/ray/session_2024-04-20_13-54-18_156773_36234 is over 95% full, available space: 2757033984; capacity: 77665726464. Object creation will fail if spilling is required.\n",
      "\u001b[33m(raylet)\u001b[0m [2024-04-20 13:57:10,006 E 36442 36464] (raylet) file_system_monitor.cc:111: /tmp/ray/session_2024-04-20_13-54-18_156773_36234 is over 95% full, available space: 2756853760; capacity: 77665726464. Object creation will fail if spilling is required.\n",
      "\u001b[33m(raylet)\u001b[0m [2024-04-20 13:57:20,017 E 36442 36464] (raylet) file_system_monitor.cc:111: /tmp/ray/session_2024-04-20_13-54-18_156773_36234 is over 95% full, available space: 2756784128; capacity: 77665726464. Object creation will fail if spilling is required.\n",
      "\u001b[33m(raylet)\u001b[0m [2024-04-20 13:57:30,028 E 36442 36464] (raylet) file_system_monitor.cc:111: /tmp/ray/session_2024-04-20_13-54-18_156773_36234 is over 95% full, available space: 2756706304; capacity: 77665726464. Object creation will fail if spilling is required.\n",
      "\u001b[33m(raylet)\u001b[0m [2024-04-20 13:57:40,038 E 36442 36464] (raylet) file_system_monitor.cc:111: /tmp/ray/session_2024-04-20_13-54-18_156773_36234 is over 95% full, available space: 2756685824; capacity: 77665726464. Object creation will fail if spilling is required.\n",
      "\u001b[33m(raylet)\u001b[0m [2024-04-20 13:57:50,048 E 36442 36464] (raylet) file_system_monitor.cc:111: /tmp/ray/session_2024-04-20_13-54-18_156773_36234 is over 95% full, available space: 2756677632; capacity: 77665726464. Object creation will fail if spilling is required.\n",
      "\u001b[33m(raylet)\u001b[0m [2024-04-20 13:58:00,059 E 36442 36464] (raylet) file_system_monitor.cc:111: /tmp/ray/session_2024-04-20_13-54-18_156773_36234 is over 95% full, available space: 2756677632; capacity: 77665726464. Object creation will fail if spilling is required.\n",
      "\u001b[33m(raylet)\u001b[0m [2024-04-20 13:58:10,073 E 36442 36464] (raylet) file_system_monitor.cc:111: /tmp/ray/session_2024-04-20_13-54-18_156773_36234 is over 95% full, available space: 2756562944; capacity: 77665726464. Object creation will fail if spilling is required.\n",
      "\u001b[33m(raylet)\u001b[0m [2024-04-20 13:58:20,082 E 36442 36464] (raylet) file_system_monitor.cc:111: /tmp/ray/session_2024-04-20_13-54-18_156773_36234 is over 95% full, available space: 2756489216; capacity: 77665726464. Object creation will fail if spilling is required.\n",
      "\u001b[33m(raylet)\u001b[0m [2024-04-20 13:58:30,095 E 36442 36464] (raylet) file_system_monitor.cc:111: /tmp/ray/session_2024-04-20_13-54-18_156773_36234 is over 95% full, available space: 2756202496; capacity: 77665726464. Object creation will fail if spilling is required.\n",
      "\u001b[33m(raylet)\u001b[0m [2024-04-20 13:58:40,105 E 36442 36464] (raylet) file_system_monitor.cc:111: /tmp/ray/session_2024-04-20_13-54-18_156773_36234 is over 95% full, available space: 2756108288; capacity: 77665726464. Object creation will fail if spilling is required.\n",
      "\u001b[33m(raylet)\u001b[0m [2024-04-20 13:58:50,116 E 36442 36464] (raylet) file_system_monitor.cc:111: /tmp/ray/session_2024-04-20_13-54-18_156773_36234 is over 95% full, available space: 2754670592; capacity: 77665726464. Object creation will fail if spilling is required.\n",
      "\u001b[33m(raylet)\u001b[0m [2024-04-20 13:59:00,126 E 36442 36464] (raylet) file_system_monitor.cc:111: /tmp/ray/session_2024-04-20_13-54-18_156773_36234 is over 95% full, available space: 2754650112; capacity: 77665726464. Object creation will fail if spilling is required.\n",
      "\u001b[33m(raylet)\u001b[0m [2024-04-20 13:59:10,136 E 36442 36464] (raylet) file_system_monitor.cc:111: /tmp/ray/session_2024-04-20_13-54-18_156773_36234 is over 95% full, available space: 2754535424; capacity: 77665726464. Object creation will fail if spilling is required.\n",
      "\u001b[33m(raylet)\u001b[0m [2024-04-20 13:59:20,147 E 36442 36464] (raylet) file_system_monitor.cc:111: /tmp/ray/session_2024-04-20_13-54-18_156773_36234 is over 95% full, available space: 2754465792; capacity: 77665726464. Object creation will fail if spilling is required.\n",
      "\u001b[33m(raylet)\u001b[0m [2024-04-20 13:59:30,156 E 36442 36464] (raylet) file_system_monitor.cc:111: /tmp/ray/session_2024-04-20_13-54-18_156773_36234 is over 95% full, available space: 2754269184; capacity: 77665726464. Object creation will fail if spilling is required.\n",
      "\u001b[33m(raylet)\u001b[0m [2024-04-20 13:59:40,166 E 36442 36464] (raylet) file_system_monitor.cc:111: /tmp/ray/session_2024-04-20_13-54-18_156773_36234 is over 95% full, available space: 2754170880; capacity: 77665726464. Object creation will fail if spilling is required.\n",
      "\u001b[33m(raylet)\u001b[0m [2024-04-20 13:59:50,177 E 36442 36464] (raylet) file_system_monitor.cc:111: /tmp/ray/session_2024-04-20_13-54-18_156773_36234 is over 95% full, available space: 2754179072; capacity: 77665726464. Object creation will fail if spilling is required.\n",
      "\u001b[33m(raylet)\u001b[0m [2024-04-20 14:00:00,189 E 36442 36464] (raylet) file_system_monitor.cc:111: /tmp/ray/session_2024-04-20_13-54-18_156773_36234 is over 95% full, available space: 2754166784; capacity: 77665726464. Object creation will fail if spilling is required.\n",
      "\u001b[33m(raylet)\u001b[0m [2024-04-20 14:00:10,200 E 36442 36464] (raylet) file_system_monitor.cc:111: /tmp/ray/session_2024-04-20_13-54-18_156773_36234 is over 95% full, available space: 2751418368; capacity: 77665726464. Object creation will fail if spilling is required.\n",
      "\u001b[33m(raylet)\u001b[0m [2024-04-20 14:00:20,213 E 36442 36464] (raylet) file_system_monitor.cc:111: /tmp/ray/session_2024-04-20_13-54-18_156773_36234 is over 95% full, available space: 2751356928; capacity: 77665726464. Object creation will fail if spilling is required.\n",
      "\u001b[33m(raylet)\u001b[0m [2024-04-20 14:00:30,226 E 36442 36464] (raylet) file_system_monitor.cc:111: /tmp/ray/session_2024-04-20_13-54-18_156773_36234 is over 95% full, available space: 2751283200; capacity: 77665726464. Object creation will fail if spilling is required.\n",
      "\u001b[33m(raylet)\u001b[0m [2024-04-20 14:00:40,237 E 36442 36464] (raylet) file_system_monitor.cc:111: /tmp/ray/session_2024-04-20_13-54-18_156773_36234 is over 95% full, available space: 2751229952; capacity: 77665726464. Object creation will fail if spilling is required.\n",
      "\u001b[33m(raylet)\u001b[0m [2024-04-20 14:00:50,248 E 36442 36464] (raylet) file_system_monitor.cc:111: /tmp/ray/session_2024-04-20_13-54-18_156773_36234 is over 95% full, available space: 2751221760; capacity: 77665726464. Object creation will fail if spilling is required.\n",
      "\u001b[33m(raylet)\u001b[0m [2024-04-20 14:01:00,258 E 36442 36464] (raylet) file_system_monitor.cc:111: /tmp/ray/session_2024-04-20_13-54-18_156773_36234 is over 95% full, available space: 2751213568; capacity: 77665726464. Object creation will fail if spilling is required.\n",
      "\u001b[33m(raylet)\u001b[0m [2024-04-20 14:01:10,271 E 36442 36464] (raylet) file_system_monitor.cc:111: /tmp/ray/session_2024-04-20_13-54-18_156773_36234 is over 95% full, available space: 2751135744; capacity: 77665726464. Object creation will fail if spilling is required.\n",
      "\u001b[33m(raylet)\u001b[0m [2024-04-20 14:01:20,282 E 36442 36464] (raylet) file_system_monitor.cc:111: /tmp/ray/session_2024-04-20_13-54-18_156773_36234 is over 95% full, available space: 2751082496; capacity: 77665726464. Object creation will fail if spilling is required.\n",
      "\u001b[33m(raylet)\u001b[0m [2024-04-20 14:01:30,292 E 36442 36464] (raylet) file_system_monitor.cc:111: /tmp/ray/session_2024-04-20_13-54-18_156773_36234 is over 95% full, available space: 2750996480; capacity: 77665726464. Object creation will fail if spilling is required.\n",
      "\u001b[33m(raylet)\u001b[0m [2024-04-20 14:01:40,304 E 36442 36464] (raylet) file_system_monitor.cc:111: /tmp/ray/session_2024-04-20_13-54-18_156773_36234 is over 95% full, available space: 2751008768; capacity: 77665726464. Object creation will fail if spilling is required.\n",
      "\u001b[33m(raylet)\u001b[0m [2024-04-20 14:01:50,316 E 36442 36464] (raylet) file_system_monitor.cc:111: /tmp/ray/session_2024-04-20_13-54-18_156773_36234 is over 95% full, available space: 2750992384; capacity: 77665726464. Object creation will fail if spilling is required.\n",
      "\u001b[33m(raylet)\u001b[0m [2024-04-20 14:02:00,326 E 36442 36464] (raylet) file_system_monitor.cc:111: /tmp/ray/session_2024-04-20_13-54-18_156773_36234 is over 95% full, available space: 2750980096; capacity: 77665726464. Object creation will fail if spilling is required.\n",
      "\u001b[33m(raylet)\u001b[0m [2024-04-20 14:02:10,336 E 36442 36464] (raylet) file_system_monitor.cc:111: /tmp/ray/session_2024-04-20_13-54-18_156773_36234 is over 95% full, available space: 2750873600; capacity: 77665726464. Object creation will fail if spilling is required.\n",
      "\u001b[33m(raylet)\u001b[0m [2024-04-20 14:02:20,347 E 36442 36464] (raylet) file_system_monitor.cc:111: /tmp/ray/session_2024-04-20_13-54-18_156773_36234 is over 95% full, available space: 2750812160; capacity: 77665726464. Object creation will fail if spilling is required.\n",
      "\u001b[33m(raylet)\u001b[0m [2024-04-20 14:02:30,358 E 36442 36464] (raylet) file_system_monitor.cc:111: /tmp/ray/session_2024-04-20_13-54-18_156773_36234 is over 95% full, available space: 2750754816; capacity: 77665726464. Object creation will fail if spilling is required.\n",
      "\u001b[33m(raylet)\u001b[0m [2024-04-20 14:02:40,370 E 36442 36464] (raylet) file_system_monitor.cc:111: /tmp/ray/session_2024-04-20_13-54-18_156773_36234 is over 95% full, available space: 2747908096; capacity: 77665726464. Object creation will fail if spilling is required.\n",
      "\u001b[33m(raylet)\u001b[0m [2024-04-20 14:02:50,381 E 36442 36464] (raylet) file_system_monitor.cc:111: /tmp/ray/session_2024-04-20_13-54-18_156773_36234 is over 95% full, available space: 2747899904; capacity: 77665726464. Object creation will fail if spilling is required.\n",
      "\u001b[33m(raylet)\u001b[0m [2024-04-20 14:03:00,394 E 36442 36464] (raylet) file_system_monitor.cc:111: /tmp/ray/session_2024-04-20_13-54-18_156773_36234 is over 95% full, available space: 2757558272; capacity: 77665726464. Object creation will fail if spilling is required.\n",
      "\u001b[33m(raylet)\u001b[0m [2024-04-20 14:03:10,405 E 36442 36464] (raylet) file_system_monitor.cc:111: /tmp/ray/session_2024-04-20_13-54-18_156773_36234 is over 95% full, available space: 2756362240; capacity: 77665726464. Object creation will fail if spilling is required.\n",
      "\u001b[33m(raylet)\u001b[0m [2024-04-20 14:03:20,414 E 36442 36464] (raylet) file_system_monitor.cc:111: /tmp/ray/session_2024-04-20_13-54-18_156773_36234 is over 95% full, available space: 2756239360; capacity: 77665726464. Object creation will fail if spilling is required.\n",
      "\u001b[33m(raylet)\u001b[0m [2024-04-20 14:03:30,424 E 36442 36464] (raylet) file_system_monitor.cc:111: /tmp/ray/session_2024-04-20_13-54-18_156773_36234 is over 95% full, available space: 2756395008; capacity: 77665726464. Object creation will fail if spilling is required.\n",
      "\u001b[33m(raylet)\u001b[0m [2024-04-20 14:03:40,434 E 36442 36464] (raylet) file_system_monitor.cc:111: /tmp/ray/session_2024-04-20_13-54-18_156773_36234 is over 95% full, available space: 2756317184; capacity: 77665726464. Object creation will fail if spilling is required.\n",
      "\u001b[33m(raylet)\u001b[0m [2024-04-20 14:03:50,445 E 36442 36464] (raylet) file_system_monitor.cc:111: /tmp/ray/session_2024-04-20_13-54-18_156773_36234 is over 95% full, available space: 2754613248; capacity: 77665726464. Object creation will fail if spilling is required.\n",
      "\u001b[33m(raylet)\u001b[0m [2024-04-20 14:04:00,458 E 36442 36464] (raylet) file_system_monitor.cc:111: /tmp/ray/session_2024-04-20_13-54-18_156773_36234 is over 95% full, available space: 2753896448; capacity: 77665726464. Object creation will fail if spilling is required.\n",
      "\u001b[33m(raylet)\u001b[0m [2024-04-20 14:04:10,472 E 36442 36464] (raylet) file_system_monitor.cc:111: /tmp/ray/session_2024-04-20_13-54-18_156773_36234 is over 95% full, available space: 2752434176; capacity: 77665726464. Object creation will fail if spilling is required.\n",
      "\u001b[33m(raylet)\u001b[0m [2024-04-20 14:04:20,484 E 36442 36464] (raylet) file_system_monitor.cc:111: /tmp/ray/session_2024-04-20_13-54-18_156773_36234 is over 95% full, available space: 2751897600; capacity: 77665726464. Object creation will fail if spilling is required.\n",
      "\u001b[33m(raylet)\u001b[0m [2024-04-20 14:04:30,497 E 36442 36464] (raylet) file_system_monitor.cc:111: /tmp/ray/session_2024-04-20_13-54-18_156773_36234 is over 95% full, available space: 2751750144; capacity: 77665726464. Object creation will fail if spilling is required.\n",
      "\u001b[33m(raylet)\u001b[0m [2024-04-20 14:04:40,509 E 36442 36464] (raylet) file_system_monitor.cc:111: /tmp/ray/session_2024-04-20_13-54-18_156773_36234 is over 95% full, available space: 2747396096; capacity: 77665726464. Object creation will fail if spilling is required.\n",
      "\u001b[33m(raylet)\u001b[0m [2024-04-20 14:04:50,521 E 36442 36464] (raylet) file_system_monitor.cc:111: /tmp/ray/session_2024-04-20_13-54-18_156773_36234 is over 95% full, available space: 2747473920; capacity: 77665726464. Object creation will fail if spilling is required.\n",
      "\u001b[33m(raylet)\u001b[0m [2024-04-20 14:05:00,534 E 36442 36464] (raylet) file_system_monitor.cc:111: /tmp/ray/session_2024-04-20_13-54-18_156773_36234 is over 95% full, available space: 2747457536; capacity: 77665726464. Object creation will fail if spilling is required.\n",
      "\u001b[33m(raylet)\u001b[0m [2024-04-20 14:05:10,547 E 36442 36464] (raylet) file_system_monitor.cc:111: /tmp/ray/session_2024-04-20_13-54-18_156773_36234 is over 95% full, available space: 2747367424; capacity: 77665726464. Object creation will fail if spilling is required.\n",
      "\u001b[33m(raylet)\u001b[0m [2024-04-20 14:05:20,562 E 36442 36464] (raylet) file_system_monitor.cc:111: /tmp/ray/session_2024-04-20_13-54-18_156773_36234 is over 95% full, available space: 2747289600; capacity: 77665726464. Object creation will fail if spilling is required.\n",
      "\u001b[33m(raylet)\u001b[0m [2024-04-20 14:05:30,581 E 36442 36464] (raylet) file_system_monitor.cc:111: /tmp/ray/session_2024-04-20_13-54-18_156773_36234 is over 95% full, available space: 2747203584; capacity: 77665726464. Object creation will fail if spilling is required.\n",
      "\u001b[33m(raylet)\u001b[0m [2024-04-20 14:05:40,596 E 36442 36464] (raylet) file_system_monitor.cc:111: /tmp/ray/session_2024-04-20_13-54-18_156773_36234 is over 95% full, available space: 2747179008; capacity: 77665726464. Object creation will fail if spilling is required.\n",
      "\u001b[33m(raylet)\u001b[0m [2024-04-20 14:05:50,610 E 36442 36464] (raylet) file_system_monitor.cc:111: /tmp/ray/session_2024-04-20_13-54-18_156773_36234 is over 95% full, available space: 2747187200; capacity: 77665726464. Object creation will fail if spilling is required.\n",
      "\u001b[33m(raylet)\u001b[0m [2024-04-20 14:06:00,629 E 36442 36464] (raylet) file_system_monitor.cc:111: /tmp/ray/session_2024-04-20_13-54-18_156773_36234 is over 95% full, available space: 2747179008; capacity: 77665726464. Object creation will fail if spilling is required.\n",
      "\u001b[33m(raylet)\u001b[0m [2024-04-20 14:06:10,645 E 36442 36464] (raylet) file_system_monitor.cc:111: /tmp/ray/session_2024-04-20_13-54-18_156773_36234 is over 95% full, available space: 2747056128; capacity: 77665726464. Object creation will fail if spilling is required.\n",
      "\u001b[33m(raylet)\u001b[0m [2024-04-20 14:06:20,658 E 36442 36464] (raylet) file_system_monitor.cc:111: /tmp/ray/session_2024-04-20_13-54-18_156773_36234 is over 95% full, available space: 2746974208; capacity: 77665726464. Object creation will fail if spilling is required.\n",
      "\u001b[33m(raylet)\u001b[0m [2024-04-20 14:06:30,673 E 36442 36464] (raylet) file_system_monitor.cc:111: /tmp/ray/session_2024-04-20_13-54-18_156773_36234 is over 95% full, available space: 2746916864; capacity: 77665726464. Object creation will fail if spilling is required.\n",
      "\u001b[33m(raylet)\u001b[0m [2024-04-20 14:06:40,690 E 36442 36464] (raylet) file_system_monitor.cc:111: /tmp/ray/session_2024-04-20_13-54-18_156773_36234 is over 95% full, available space: 2746888192; capacity: 77665726464. Object creation will fail if spilling is required.\n",
      "\u001b[33m(raylet)\u001b[0m [2024-04-20 14:06:50,705 E 36442 36464] (raylet) file_system_monitor.cc:111: /tmp/ray/session_2024-04-20_13-54-18_156773_36234 is over 95% full, available space: 2746892288; capacity: 77665726464. Object creation will fail if spilling is required.\n",
      "\u001b[33m(raylet)\u001b[0m [2024-04-20 14:07:00,720 E 36442 36464] (raylet) file_system_monitor.cc:111: /tmp/ray/session_2024-04-20_13-54-18_156773_36234 is over 95% full, available space: 2746880000; capacity: 77665726464. Object creation will fail if spilling is required.\n",
      "\u001b[33m(raylet)\u001b[0m [2024-04-20 14:07:10,735 E 36442 36464] (raylet) file_system_monitor.cc:111: /tmp/ray/session_2024-04-20_13-54-18_156773_36234 is over 95% full, available space: 2746798080; capacity: 77665726464. Object creation will fail if spilling is required.\n",
      "\u001b[33m(raylet)\u001b[0m [2024-04-20 14:07:20,752 E 36442 36464] (raylet) file_system_monitor.cc:111: /tmp/ray/session_2024-04-20_13-54-18_156773_36234 is over 95% full, available space: 2746707968; capacity: 77665726464. Object creation will fail if spilling is required.\n",
      "\u001b[33m(raylet)\u001b[0m [2024-04-20 14:07:30,767 E 36442 36464] (raylet) file_system_monitor.cc:111: /tmp/ray/session_2024-04-20_13-54-18_156773_36234 is over 95% full, available space: 2746658816; capacity: 77665726464. Object creation will fail if spilling is required.\n",
      "\u001b[33m(raylet)\u001b[0m [2024-04-20 14:07:40,779 E 36442 36464] (raylet) file_system_monitor.cc:111: /tmp/ray/session_2024-04-20_13-54-18_156773_36234 is over 95% full, available space: 2746339328; capacity: 77665726464. Object creation will fail if spilling is required.\n",
      "\u001b[33m(raylet)\u001b[0m [2024-04-20 14:07:50,804 E 36442 36464] (raylet) file_system_monitor.cc:111: /tmp/ray/session_2024-04-20_13-54-18_156773_36234 is over 95% full, available space: 2745114624; capacity: 77665726464. Object creation will fail if spilling is required.\n",
      "\u001b[33m(raylet)\u001b[0m [2024-04-20 14:08:00,821 E 36442 36464] (raylet) file_system_monitor.cc:111: /tmp/ray/session_2024-04-20_13-54-18_156773_36234 is over 95% full, available space: 2745114624; capacity: 77665726464. Object creation will fail if spilling is required.\n",
      "\u001b[33m(raylet)\u001b[0m [2024-04-20 14:08:10,837 E 36442 36464] (raylet) file_system_monitor.cc:111: /tmp/ray/session_2024-04-20_13-54-18_156773_36234 is over 95% full, available space: 2744991744; capacity: 77665726464. Object creation will fail if spilling is required.\n",
      "\u001b[33m(raylet)\u001b[0m [2024-04-20 14:08:20,853 E 36442 36464] (raylet) file_system_monitor.cc:111: /tmp/ray/session_2024-04-20_13-54-18_156773_36234 is over 95% full, available space: 2744872960; capacity: 77665726464. Object creation will fail if spilling is required.\n",
      "\u001b[33m(raylet)\u001b[0m [2024-04-20 14:08:30,874 E 36442 36464] (raylet) file_system_monitor.cc:111: /tmp/ray/session_2024-04-20_13-54-18_156773_36234 is over 95% full, available space: 2744852480; capacity: 77665726464. Object creation will fail if spilling is required.\n",
      "\u001b[33m(raylet)\u001b[0m [2024-04-20 14:08:40,893 E 36442 36464] (raylet) file_system_monitor.cc:111: /tmp/ray/session_2024-04-20_13-54-18_156773_36234 is over 95% full, available space: 2744709120; capacity: 77665726464. Object creation will fail if spilling is required.\n",
      "\u001b[33m(raylet)\u001b[0m [2024-04-20 14:08:50,912 E 36442 36464] (raylet) file_system_monitor.cc:111: /tmp/ray/session_2024-04-20_13-54-18_156773_36234 is over 95% full, available space: 2744619008; capacity: 77665726464. Object creation will fail if spilling is required.\n",
      "\u001b[33m(raylet)\u001b[0m [2024-04-20 14:09:00,928 E 36442 36464] (raylet) file_system_monitor.cc:111: /tmp/ray/session_2024-04-20_13-54-18_156773_36234 is over 95% full, available space: 2744614912; capacity: 77665726464. Object creation will fail if spilling is required.\n",
      "\u001b[33m(raylet)\u001b[0m [2024-04-20 14:09:10,945 E 36442 36464] (raylet) file_system_monitor.cc:111: /tmp/ray/session_2024-04-20_13-54-18_156773_36234 is over 95% full, available space: 2752016384; capacity: 77665726464. Object creation will fail if spilling is required.\n",
      "\u001b[33m(raylet)\u001b[0m [2024-04-20 14:09:20,969 E 36442 36464] (raylet) file_system_monitor.cc:111: /tmp/ray/session_2024-04-20_13-54-18_156773_36234 is over 95% full, available space: 2751909888; capacity: 77665726464. Object creation will fail if spilling is required.\n",
      "\u001b[33m(raylet)\u001b[0m [2024-04-20 14:09:30,983 E 36442 36464] (raylet) file_system_monitor.cc:111: /tmp/ray/session_2024-04-20_13-54-18_156773_36234 is over 95% full, available space: 2751897600; capacity: 77665726464. Object creation will fail if spilling is required.\n",
      "\u001b[33m(raylet)\u001b[0m [2024-04-20 14:09:40,998 E 36442 36464] (raylet) file_system_monitor.cc:111: /tmp/ray/session_2024-04-20_13-54-18_156773_36234 is over 95% full, available space: 2751873024; capacity: 77665726464. Object creation will fail if spilling is required.\n",
      "\u001b[33m(raylet)\u001b[0m [2024-04-20 14:09:51,011 E 36442 36464] (raylet) file_system_monitor.cc:111: /tmp/ray/session_2024-04-20_13-54-18_156773_36234 is over 95% full, available space: 2751873024; capacity: 77665726464. Object creation will fail if spilling is required.\n",
      "\u001b[33m(raylet)\u001b[0m [2024-04-20 14:10:01,026 E 36442 36464] (raylet) file_system_monitor.cc:111: /tmp/ray/session_2024-04-20_13-54-18_156773_36234 is over 95% full, available space: 2751868928; capacity: 77665726464. Object creation will fail if spilling is required.\n",
      "\u001b[33m(raylet)\u001b[0m [2024-04-20 14:10:11,043 E 36442 36464] (raylet) file_system_monitor.cc:111: /tmp/ray/session_2024-04-20_13-54-18_156773_36234 is over 95% full, available space: 2751676416; capacity: 77665726464. Object creation will fail if spilling is required.\n",
      "\u001b[33m(raylet)\u001b[0m [2024-04-20 14:10:21,059 E 36442 36464] (raylet) file_system_monitor.cc:111: /tmp/ray/session_2024-04-20_13-54-18_156773_36234 is over 95% full, available space: 2751483904; capacity: 77665726464. Object creation will fail if spilling is required.\n",
      "\u001b[33m(raylet)\u001b[0m [2024-04-20 14:10:31,075 E 36442 36464] (raylet) file_system_monitor.cc:111: /tmp/ray/session_2024-04-20_13-54-18_156773_36234 is over 95% full, available space: 2751471616; capacity: 77665726464. Object creation will fail if spilling is required.\n",
      "\u001b[33m(raylet)\u001b[0m [2024-04-20 14:10:41,090 E 36442 36464] (raylet) file_system_monitor.cc:111: /tmp/ray/session_2024-04-20_13-54-18_156773_36234 is over 95% full, available space: 2751447040; capacity: 77665726464. Object creation will fail if spilling is required.\n",
      "\u001b[33m(raylet)\u001b[0m [2024-04-20 14:10:51,104 E 36442 36464] (raylet) file_system_monitor.cc:111: /tmp/ray/session_2024-04-20_13-54-18_156773_36234 is over 95% full, available space: 2751447040; capacity: 77665726464. Object creation will fail if spilling is required.\n",
      "\u001b[33m(raylet)\u001b[0m [2024-04-20 14:11:01,118 E 36442 36464] (raylet) file_system_monitor.cc:111: /tmp/ray/session_2024-04-20_13-54-18_156773_36234 is over 95% full, available space: 2751836160; capacity: 77665726464. Object creation will fail if spilling is required.\n",
      "\u001b[33m(raylet)\u001b[0m [2024-04-20 14:11:11,135 E 36442 36464] (raylet) file_system_monitor.cc:111: /tmp/ray/session_2024-04-20_13-54-18_156773_36234 is over 95% full, available space: 2742865920; capacity: 77665726464. Object creation will fail if spilling is required.\n",
      "\u001b[33m(raylet)\u001b[0m [2024-04-20 14:11:21,150 E 36442 36464] (raylet) file_system_monitor.cc:111: /tmp/ray/session_2024-04-20_13-54-18_156773_36234 is over 95% full, available space: 2738110464; capacity: 77665726464. Object creation will fail if spilling is required.\n",
      "\u001b[33m(raylet)\u001b[0m [2024-04-20 14:11:31,168 E 36442 36464] (raylet) file_system_monitor.cc:111: /tmp/ray/session_2024-04-20_13-54-18_156773_36234 is over 95% full, available space: 2737389568; capacity: 77665726464. Object creation will fail if spilling is required.\n",
      "\u001b[33m(raylet)\u001b[0m [2024-04-20 14:11:41,179 E 36442 36464] (raylet) file_system_monitor.cc:111: /tmp/ray/session_2024-04-20_13-54-18_156773_36234 is over 95% full, available space: 2734608384; capacity: 77665726464. Object creation will fail if spilling is required.\n",
      "\u001b[33m(raylet)\u001b[0m [2024-04-20 14:11:51,190 E 36442 36464] (raylet) file_system_monitor.cc:111: /tmp/ray/session_2024-04-20_13-54-18_156773_36234 is over 95% full, available space: 2734206976; capacity: 77665726464. Object creation will fail if spilling is required.\n",
      "\u001b[33m(raylet)\u001b[0m [2024-04-20 14:12:01,201 E 36442 36464] (raylet) file_system_monitor.cc:111: /tmp/ray/session_2024-04-20_13-54-18_156773_36234 is over 95% full, available space: 2732957696; capacity: 77665726464. Object creation will fail if spilling is required.\n",
      "\u001b[33m(raylet)\u001b[0m [2024-04-20 14:12:11,220 E 36442 36464] (raylet) file_system_monitor.cc:111: /tmp/ray/session_2024-04-20_13-54-18_156773_36234 is over 95% full, available space: 2730868736; capacity: 77665726464. Object creation will fail if spilling is required.\n",
      "\u001b[33m(raylet)\u001b[0m [2024-04-20 14:12:21,233 E 36442 36464] (raylet) file_system_monitor.cc:111: /tmp/ray/session_2024-04-20_13-54-18_156773_36234 is over 95% full, available space: 2737623040; capacity: 77665726464. Object creation will fail if spilling is required.\n",
      "\u001b[33m(raylet)\u001b[0m [2024-04-20 14:12:31,251 E 36442 36464] (raylet) file_system_monitor.cc:111: /tmp/ray/session_2024-04-20_13-54-18_156773_36234 is over 95% full, available space: 2753245184; capacity: 77665726464. Object creation will fail if spilling is required.\n",
      "\u001b[33m(raylet)\u001b[0m [2024-04-20 14:12:41,266 E 36442 36464] (raylet) file_system_monitor.cc:111: /tmp/ray/session_2024-04-20_13-54-18_156773_36234 is over 95% full, available space: 2753294336; capacity: 77665726464. Object creation will fail if spilling is required.\n",
      "\u001b[33m(raylet)\u001b[0m [2024-04-20 14:12:51,286 E 36442 36464] (raylet) file_system_monitor.cc:111: /tmp/ray/session_2024-04-20_13-54-18_156773_36234 is over 95% full, available space: 2753286144; capacity: 77665726464. Object creation will fail if spilling is required.\n",
      "\u001b[33m(raylet)\u001b[0m [2024-04-20 14:13:01,303 E 36442 36464] (raylet) file_system_monitor.cc:111: /tmp/ray/session_2024-04-20_13-54-18_156773_36234 is over 95% full, available space: 2753257472; capacity: 77665726464. Object creation will fail if spilling is required.\n",
      "\u001b[33m(raylet)\u001b[0m [2024-04-20 14:13:11,322 E 36442 36464] (raylet) file_system_monitor.cc:111: /tmp/ray/session_2024-04-20_13-54-18_156773_36234 is over 95% full, available space: 2753163264; capacity: 77665726464. Object creation will fail if spilling is required.\n",
      "\u001b[33m(raylet)\u001b[0m [2024-04-20 14:13:21,339 E 36442 36464] (raylet) file_system_monitor.cc:111: /tmp/ray/session_2024-04-20_13-54-18_156773_36234 is over 95% full, available space: 2753044480; capacity: 77665726464. Object creation will fail if spilling is required.\n",
      "\u001b[33m(raylet)\u001b[0m [2024-04-20 14:13:31,357 E 36442 36464] (raylet) file_system_monitor.cc:111: /tmp/ray/session_2024-04-20_13-54-18_156773_36234 is over 95% full, available space: 2753044480; capacity: 77665726464. Object creation will fail if spilling is required.\n",
      "\u001b[33m(raylet)\u001b[0m [2024-04-20 14:13:41,377 E 36442 36464] (raylet) file_system_monitor.cc:111: /tmp/ray/session_2024-04-20_13-54-18_156773_36234 is over 95% full, available space: 2751787008; capacity: 77665726464. Object creation will fail if spilling is required.\n",
      "\u001b[33m(raylet)\u001b[0m [2024-04-20 14:13:51,398 E 36442 36464] (raylet) file_system_monitor.cc:111: /tmp/ray/session_2024-04-20_13-54-18_156773_36234 is over 95% full, available space: 2751819776; capacity: 77665726464. Object creation will fail if spilling is required.\n",
      "\u001b[33m(raylet)\u001b[0m [2024-04-20 14:14:01,423 E 36442 36464] (raylet) file_system_monitor.cc:111: /tmp/ray/session_2024-04-20_13-54-18_156773_36234 is over 95% full, available space: 2751774720; capacity: 77665726464. Object creation will fail if spilling is required.\n",
      "\u001b[33m(raylet)\u001b[0m [2024-04-20 14:14:11,448 E 36442 36464] (raylet) file_system_monitor.cc:111: /tmp/ray/session_2024-04-20_13-54-18_156773_36234 is over 95% full, available space: 2751672320; capacity: 77665726464. Object creation will fail if spilling is required.\n",
      "\u001b[33m(raylet)\u001b[0m [2024-04-20 14:14:21,466 E 36442 36464] (raylet) file_system_monitor.cc:111: /tmp/ray/session_2024-04-20_13-54-18_156773_36234 is over 95% full, available space: 2751537152; capacity: 77665726464. Object creation will fail if spilling is required.\n",
      "\u001b[33m(raylet)\u001b[0m [2024-04-20 14:14:31,483 E 36442 36464] (raylet) file_system_monitor.cc:111: /tmp/ray/session_2024-04-20_13-54-18_156773_36234 is over 95% full, available space: 2751528960; capacity: 77665726464. Object creation will fail if spilling is required.\n",
      "\u001b[33m(raylet)\u001b[0m [2024-04-20 14:14:41,498 E 36442 36464] (raylet) file_system_monitor.cc:111: /tmp/ray/session_2024-04-20_13-54-18_156773_36234 is over 95% full, available space: 2748100608; capacity: 77665726464. Object creation will fail if spilling is required.\n",
      "\u001b[33m(raylet)\u001b[0m [2024-04-20 14:14:51,510 E 36442 36464] (raylet) file_system_monitor.cc:111: /tmp/ray/session_2024-04-20_13-54-18_156773_36234 is over 95% full, available space: 2748137472; capacity: 77665726464. Object creation will fail if spilling is required.\n",
      "\u001b[33m(raylet)\u001b[0m [2024-04-20 14:15:01,523 E 36442 36464] (raylet) file_system_monitor.cc:111: /tmp/ray/session_2024-04-20_13-54-18_156773_36234 is over 95% full, available space: 2748104704; capacity: 77665726464. Object creation will fail if spilling is required.\n",
      "\u001b[33m(raylet)\u001b[0m [2024-04-20 14:15:11,537 E 36442 36464] (raylet) file_system_monitor.cc:111: /tmp/ray/session_2024-04-20_13-54-18_156773_36234 is over 95% full, available space: 2747981824; capacity: 77665726464. Object creation will fail if spilling is required.\n",
      "\u001b[33m(raylet)\u001b[0m [2024-04-20 14:15:21,551 E 36442 36464] (raylet) file_system_monitor.cc:111: /tmp/ray/session_2024-04-20_13-54-18_156773_36234 is over 95% full, available space: 2747863040; capacity: 77665726464. Object creation will fail if spilling is required.\n",
      "\u001b[33m(raylet)\u001b[0m [2024-04-20 14:15:31,563 E 36442 36464] (raylet) file_system_monitor.cc:111: /tmp/ray/session_2024-04-20_13-54-18_156773_36234 is over 95% full, available space: 2744156160; capacity: 77665726464. Object creation will fail if spilling is required.\n",
      "\u001b[33m(raylet)\u001b[0m [2024-04-20 14:15:41,576 E 36442 36464] (raylet) file_system_monitor.cc:111: /tmp/ray/session_2024-04-20_13-54-18_156773_36234 is over 95% full, available space: 2744074240; capacity: 77665726464. Object creation will fail if spilling is required.\n",
      "\u001b[33m(raylet)\u001b[0m [2024-04-20 14:15:51,589 E 36442 36464] (raylet) file_system_monitor.cc:111: /tmp/ray/session_2024-04-20_13-54-18_156773_36234 is over 95% full, available space: 2744070144; capacity: 77665726464. Object creation will fail if spilling is required.\n",
      "\u001b[33m(raylet)\u001b[0m [2024-04-20 14:16:01,603 E 36442 36464] (raylet) file_system_monitor.cc:111: /tmp/ray/session_2024-04-20_13-54-18_156773_36234 is over 95% full, available space: 2744037376; capacity: 77665726464. Object creation will fail if spilling is required.\n",
      "\u001b[33m(raylet)\u001b[0m [2024-04-20 14:16:11,615 E 36442 36464] (raylet) file_system_monitor.cc:111: /tmp/ray/session_2024-04-20_13-54-18_156773_36234 is over 95% full, available space: 2743947264; capacity: 77665726464. Object creation will fail if spilling is required.\n",
      "\u001b[33m(raylet)\u001b[0m [2024-04-20 14:16:21,624 E 36442 36464] (raylet) file_system_monitor.cc:111: /tmp/ray/session_2024-04-20_13-54-18_156773_36234 is over 95% full, available space: 2743828480; capacity: 77665726464. Object creation will fail if spilling is required.\n",
      "\u001b[33m(raylet)\u001b[0m [2024-04-20 14:16:31,637 E 36442 36464] (raylet) file_system_monitor.cc:111: /tmp/ray/session_2024-04-20_13-54-18_156773_36234 is over 95% full, available space: 2743779328; capacity: 77665726464. Object creation will fail if spilling is required.\n",
      "\u001b[33m(raylet)\u001b[0m [2024-04-20 14:16:41,649 E 36442 36464] (raylet) file_system_monitor.cc:111: /tmp/ray/session_2024-04-20_13-54-18_156773_36234 is over 95% full, available space: 2742759424; capacity: 77665726464. Object creation will fail if spilling is required.\n",
      "\u001b[33m(raylet)\u001b[0m [2024-04-20 14:16:51,657 E 36442 36464] (raylet) file_system_monitor.cc:111: /tmp/ray/session_2024-04-20_13-54-18_156773_36234 is over 95% full, available space: 2742702080; capacity: 77665726464. Object creation will fail if spilling is required.\n",
      "\u001b[33m(raylet)\u001b[0m [2024-04-20 14:17:01,667 E 36442 36464] (raylet) file_system_monitor.cc:111: /tmp/ray/session_2024-04-20_13-54-18_156773_36234 is over 95% full, available space: 2742657024; capacity: 77665726464. Object creation will fail if spilling is required.\n",
      "\u001b[33m(raylet)\u001b[0m [2024-04-20 14:17:11,676 E 36442 36464] (raylet) file_system_monitor.cc:111: /tmp/ray/session_2024-04-20_13-54-18_156773_36234 is over 95% full, available space: 2742546432; capacity: 77665726464. Object creation will fail if spilling is required.\n",
      "\u001b[33m(raylet)\u001b[0m [2024-04-20 14:17:21,687 E 36442 36464] (raylet) file_system_monitor.cc:111: /tmp/ray/session_2024-04-20_13-54-18_156773_36234 is over 95% full, available space: 2742378496; capacity: 77665726464. Object creation will fail if spilling is required.\n",
      "\u001b[33m(raylet)\u001b[0m [2024-04-20 14:17:31,696 E 36442 36464] (raylet) file_system_monitor.cc:111: /tmp/ray/session_2024-04-20_13-54-18_156773_36234 is over 95% full, available space: 2742378496; capacity: 77665726464. Object creation will fail if spilling is required.\n",
      "\u001b[33m(raylet)\u001b[0m [2024-04-20 14:17:41,707 E 36442 36464] (raylet) file_system_monitor.cc:111: /tmp/ray/session_2024-04-20_13-54-18_156773_36234 is over 95% full, available space: 2742341632; capacity: 77665726464. Object creation will fail if spilling is required.\n",
      "\u001b[33m(raylet)\u001b[0m [2024-04-20 14:17:51,718 E 36442 36464] (raylet) file_system_monitor.cc:111: /tmp/ray/session_2024-04-20_13-54-18_156773_36234 is over 95% full, available space: 2739523584; capacity: 77665726464. Object creation will fail if spilling is required.\n",
      "\u001b[33m(raylet)\u001b[0m [2024-04-20 14:18:01,729 E 36442 36464] (raylet) file_system_monitor.cc:111: /tmp/ray/session_2024-04-20_13-54-18_156773_36234 is over 95% full, available space: 2739339264; capacity: 77665726464. Object creation will fail if spilling is required.\n",
      "\u001b[33m(raylet)\u001b[0m [2024-04-20 14:18:11,741 E 36442 36464] (raylet) file_system_monitor.cc:111: /tmp/ray/session_2024-04-20_13-54-18_156773_36234 is over 95% full, available space: 2739109888; capacity: 77665726464. Object creation will fail if spilling is required.\n",
      "\u001b[33m(raylet)\u001b[0m [2024-04-20 14:18:21,753 E 36442 36464] (raylet) file_system_monitor.cc:111: /tmp/ray/session_2024-04-20_13-54-18_156773_36234 is over 95% full, available space: 2738974720; capacity: 77665726464. Object creation will fail if spilling is required.\n",
      "\u001b[33m(raylet)\u001b[0m [2024-04-20 14:18:31,764 E 36442 36464] (raylet) file_system_monitor.cc:111: /tmp/ray/session_2024-04-20_13-54-18_156773_36234 is over 95% full, available space: 2738970624; capacity: 77665726464. Object creation will fail if spilling is required.\n",
      "\u001b[33m(raylet)\u001b[0m [2024-04-20 14:18:41,777 E 36442 36464] (raylet) file_system_monitor.cc:111: /tmp/ray/session_2024-04-20_13-54-18_156773_36234 is over 95% full, available space: 2738929664; capacity: 77665726464. Object creation will fail if spilling is required.\n",
      "\u001b[33m(raylet)\u001b[0m [2024-04-20 14:18:51,791 E 36442 36464] (raylet) file_system_monitor.cc:111: /tmp/ray/session_2024-04-20_13-54-18_156773_36234 is over 95% full, available space: 2738941952; capacity: 77665726464. Object creation will fail if spilling is required.\n",
      "\u001b[33m(raylet)\u001b[0m [2024-04-20 14:19:01,803 E 36442 36464] (raylet) file_system_monitor.cc:111: /tmp/ray/session_2024-04-20_13-54-18_156773_36234 is over 95% full, available space: 2738896896; capacity: 77665726464. Object creation will fail if spilling is required.\n",
      "\u001b[33m(raylet)\u001b[0m [2024-04-20 14:19:11,814 E 36442 36464] (raylet) file_system_monitor.cc:111: /tmp/ray/session_2024-04-20_13-54-18_156773_36234 is over 95% full, available space: 2738814976; capacity: 77665726464. Object creation will fail if spilling is required.\n",
      "\u001b[33m(raylet)\u001b[0m [2024-04-20 14:19:21,824 E 36442 36464] (raylet) file_system_monitor.cc:111: /tmp/ray/session_2024-04-20_13-54-18_156773_36234 is over 95% full, available space: 2738675712; capacity: 77665726464. Object creation will fail if spilling is required.\n",
      "\u001b[33m(raylet)\u001b[0m [2024-04-20 14:19:31,836 E 36442 36464] (raylet) file_system_monitor.cc:111: /tmp/ray/session_2024-04-20_13-54-18_156773_36234 is over 95% full, available space: 2738659328; capacity: 77665726464. Object creation will fail if spilling is required.\n",
      "\u001b[33m(raylet)\u001b[0m [2024-04-20 14:19:41,846 E 36442 36464] (raylet) file_system_monitor.cc:111: /tmp/ray/session_2024-04-20_13-54-18_156773_36234 is over 95% full, available space: 2738642944; capacity: 77665726464. Object creation will fail if spilling is required.\n",
      "\u001b[33m(raylet)\u001b[0m [2024-04-20 14:19:51,859 E 36442 36464] (raylet) file_system_monitor.cc:111: /tmp/ray/session_2024-04-20_13-54-18_156773_36234 is over 95% full, available space: 2738638848; capacity: 77665726464. Object creation will fail if spilling is required.\n",
      "\u001b[33m(raylet)\u001b[0m [2024-04-20 14:20:01,869 E 36442 36464] (raylet) file_system_monitor.cc:111: /tmp/ray/session_2024-04-20_13-54-18_156773_36234 is over 95% full, available space: 2738606080; capacity: 77665726464. Object creation will fail if spilling is required.\n",
      "\u001b[33m(raylet)\u001b[0m [2024-04-20 14:20:11,881 E 36442 36464] (raylet) file_system_monitor.cc:111: /tmp/ray/session_2024-04-20_13-54-18_156773_36234 is over 95% full, available space: 2738462720; capacity: 77665726464. Object creation will fail if spilling is required.\n",
      "\u001b[33m(raylet)\u001b[0m [2024-04-20 14:20:21,891 E 36442 36464] (raylet) file_system_monitor.cc:111: /tmp/ray/session_2024-04-20_13-54-18_156773_36234 is over 95% full, available space: 2748149760; capacity: 77665726464. Object creation will fail if spilling is required.\n",
      "\u001b[33m(raylet)\u001b[0m [2024-04-20 14:20:31,900 E 36442 36464] (raylet) file_system_monitor.cc:111: /tmp/ray/session_2024-04-20_13-54-18_156773_36234 is over 95% full, available space: 2748121088; capacity: 77665726464. Object creation will fail if spilling is required.\n",
      "\u001b[33m(raylet)\u001b[0m [2024-04-20 14:20:41,911 E 36442 36464] (raylet) file_system_monitor.cc:111: /tmp/ray/session_2024-04-20_13-54-18_156773_36234 is over 95% full, available space: 2748076032; capacity: 77665726464. Object creation will fail if spilling is required.\n",
      "\u001b[33m(raylet)\u001b[0m [2024-04-20 14:20:51,922 E 36442 36464] (raylet) file_system_monitor.cc:111: /tmp/ray/session_2024-04-20_13-54-18_156773_36234 is over 95% full, available space: 2748035072; capacity: 77665726464. Object creation will fail if spilling is required.\n",
      "\u001b[33m(raylet)\u001b[0m [2024-04-20 14:21:01,933 E 36442 36464] (raylet) file_system_monitor.cc:111: /tmp/ray/session_2024-04-20_13-54-18_156773_36234 is over 95% full, available space: 2747944960; capacity: 77665726464. Object creation will fail if spilling is required.\n",
      "\u001b[33m(raylet)\u001b[0m [2024-04-20 14:21:11,944 E 36442 36464] (raylet) file_system_monitor.cc:111: /tmp/ray/session_2024-04-20_13-54-18_156773_36234 is over 95% full, available space: 2747863040; capacity: 77665726464. Object creation will fail if spilling is required.\n",
      "\u001b[33m(raylet)\u001b[0m [2024-04-20 14:21:21,956 E 36442 36464] (raylet) file_system_monitor.cc:111: /tmp/ray/session_2024-04-20_13-54-18_156773_36234 is over 95% full, available space: 2747699200; capacity: 77665726464. Object creation will fail if spilling is required.\n",
      "\u001b[33m(raylet)\u001b[0m [2024-04-20 14:21:31,967 E 36442 36464] (raylet) file_system_monitor.cc:111: /tmp/ray/session_2024-04-20_13-54-18_156773_36234 is over 95% full, available space: 2747682816; capacity: 77665726464. Object creation will fail if spilling is required.\n",
      "\u001b[33m(raylet)\u001b[0m [2024-04-20 14:21:41,978 E 36442 36464] (raylet) file_system_monitor.cc:111: /tmp/ray/session_2024-04-20_13-54-18_156773_36234 is over 95% full, available space: 2747670528; capacity: 77665726464. Object creation will fail if spilling is required.\n",
      "\u001b[33m(raylet)\u001b[0m [2024-04-20 14:21:51,988 E 36442 36464] (raylet) file_system_monitor.cc:111: /tmp/ray/session_2024-04-20_13-54-18_156773_36234 is over 95% full, available space: 2745344000; capacity: 77665726464. Object creation will fail if spilling is required.\n",
      "\u001b[33m(raylet)\u001b[0m [2024-04-20 14:22:01,999 E 36442 36464] (raylet) file_system_monitor.cc:111: /tmp/ray/session_2024-04-20_13-54-18_156773_36234 is over 95% full, available space: 2745327616; capacity: 77665726464. Object creation will fail if spilling is required.\n",
      "\u001b[33m(raylet)\u001b[0m [2024-04-20 14:22:12,010 E 36442 36464] (raylet) file_system_monitor.cc:111: /tmp/ray/session_2024-04-20_13-54-18_156773_36234 is over 95% full, available space: 2745225216; capacity: 77665726464. Object creation will fail if spilling is required.\n",
      "\u001b[33m(raylet)\u001b[0m [2024-04-20 14:22:22,021 E 36442 36464] (raylet) file_system_monitor.cc:111: /tmp/ray/session_2024-04-20_13-54-18_156773_36234 is over 95% full, available space: 2745069568; capacity: 77665726464. Object creation will fail if spilling is required.\n",
      "\u001b[33m(raylet)\u001b[0m [2024-04-20 14:22:32,038 E 36442 36464] (raylet) file_system_monitor.cc:111: /tmp/ray/session_2024-04-20_13-54-18_156773_36234 is over 95% full, available space: 2745065472; capacity: 77665726464. Object creation will fail if spilling is required.\n",
      "\u001b[33m(raylet)\u001b[0m [2024-04-20 14:22:42,048 E 36442 36464] (raylet) file_system_monitor.cc:111: /tmp/ray/session_2024-04-20_13-54-18_156773_36234 is over 95% full, available space: 2745028608; capacity: 77665726464. Object creation will fail if spilling is required.\n",
      "\u001b[33m(raylet)\u001b[0m [2024-04-20 14:22:52,059 E 36442 36464] (raylet) file_system_monitor.cc:111: /tmp/ray/session_2024-04-20_13-54-18_156773_36234 is over 95% full, available space: 2745036800; capacity: 77665726464. Object creation will fail if spilling is required.\n",
      "\u001b[33m(raylet)\u001b[0m [2024-04-20 14:23:02,070 E 36442 36464] (raylet) file_system_monitor.cc:111: /tmp/ray/session_2024-04-20_13-54-18_156773_36234 is over 95% full, available space: 2744995840; capacity: 77665726464. Object creation will fail if spilling is required.\n",
      "\u001b[33m(raylet)\u001b[0m [2024-04-20 14:23:12,081 E 36442 36464] (raylet) file_system_monitor.cc:111: /tmp/ray/session_2024-04-20_13-54-18_156773_36234 is over 95% full, available space: 2744868864; capacity: 77665726464. Object creation will fail if spilling is required.\n",
      "\u001b[33m(raylet)\u001b[0m [2024-04-20 14:23:22,101 E 36442 36464] (raylet) file_system_monitor.cc:111: /tmp/ray/session_2024-04-20_13-54-18_156773_36234 is over 95% full, available space: 2744709120; capacity: 77665726464. Object creation will fail if spilling is required.\n",
      "\u001b[33m(raylet)\u001b[0m [2024-04-20 14:23:32,117 E 36442 36464] (raylet) file_system_monitor.cc:111: /tmp/ray/session_2024-04-20_13-54-18_156773_36234 is over 95% full, available space: 2744692736; capacity: 77665726464. Object creation will fail if spilling is required.\n",
      "\u001b[33m(raylet)\u001b[0m [2024-04-20 14:23:42,128 E 36442 36464] (raylet) file_system_monitor.cc:111: /tmp/ray/session_2024-04-20_13-54-18_156773_36234 is over 95% full, available space: 2744664064; capacity: 77665726464. Object creation will fail if spilling is required.\n",
      "\u001b[33m(raylet)\u001b[0m [2024-04-20 14:23:52,141 E 36442 36464] (raylet) file_system_monitor.cc:111: /tmp/ray/session_2024-04-20_13-54-18_156773_36234 is over 95% full, available space: 2744655872; capacity: 77665726464. Object creation will fail if spilling is required.\n",
      "\u001b[33m(raylet)\u001b[0m [2024-04-20 14:24:02,151 E 36442 36464] (raylet) file_system_monitor.cc:111: /tmp/ray/session_2024-04-20_13-54-18_156773_36234 is over 95% full, available space: 2744631296; capacity: 77665726464. Object creation will fail if spilling is required.\n",
      "\u001b[33m(raylet)\u001b[0m [2024-04-20 14:24:12,199 E 36442 36464] (raylet) file_system_monitor.cc:111: /tmp/ray/session_2024-04-20_13-54-18_156773_36234 is over 95% full, available space: 2738532352; capacity: 77665726464. Object creation will fail if spilling is required.\n",
      "\u001b[33m(raylet)\u001b[0m [2024-04-20 14:24:22,231 E 36442 36464] (raylet) file_system_monitor.cc:111: /tmp/ray/session_2024-04-20_13-54-18_156773_36234 is over 95% full, available space: 2736926720; capacity: 77665726464. Object creation will fail if spilling is required.\n",
      "\u001b[33m(raylet)\u001b[0m [2024-04-20 14:24:32,282 E 36442 36464] (raylet) file_system_monitor.cc:111: /tmp/ray/session_2024-04-20_13-54-18_156773_36234 is over 95% full, available space: 2732302336; capacity: 77665726464. Object creation will fail if spilling is required.\n",
      "\u001b[33m(raylet)\u001b[0m [2024-04-20 14:24:42,324 E 36442 36464] (raylet) file_system_monitor.cc:111: /tmp/ray/session_2024-04-20_13-54-18_156773_36234 is over 95% full, available space: 2732216320; capacity: 77665726464. Object creation will fail if spilling is required.\n",
      "\u001b[33m(raylet)\u001b[0m [2024-04-20 14:24:52,338 E 36442 36464] (raylet) file_system_monitor.cc:111: /tmp/ray/session_2024-04-20_13-54-18_156773_36234 is over 95% full, available space: 2732019712; capacity: 77665726464. Object creation will fail if spilling is required.\n",
      "\u001b[33m(raylet)\u001b[0m [2024-04-20 14:25:02,405 E 36442 36464] (raylet) file_system_monitor.cc:111: /tmp/ray/session_2024-04-20_13-54-18_156773_36234 is over 95% full, available space: 2731765760; capacity: 77665726464. Object creation will fail if spilling is required.\n",
      "\u001b[33m(raylet)\u001b[0m [2024-04-20 14:25:12,514 E 36442 36464] (raylet) file_system_monitor.cc:111: /tmp/ray/session_2024-04-20_13-54-18_156773_36234 is over 95% full, available space: 2735718400; capacity: 77665726464. Object creation will fail if spilling is required.\n",
      "\u001b[33m(raylet)\u001b[0m [2024-04-20 14:25:19,893 E 36442 36442] (raylet) node_manager.cc:2967: 23 Workers (tasks / actors) killed due to memory pressure (OOM), 0 Workers crashed due to other reasons at node (ID: 844d3cb7d7e5e2e1a9eeb7b9eb802ffe521541fb0f18c55434057ae1, IP: 192.168.193.14) over the last time period. To see more information about the Workers killed on this node, use `ray logs raylet.out -ip 192.168.193.14`\n",
      "\u001b[33m(raylet)\u001b[0m \n",
      "\u001b[33m(raylet)\u001b[0m Refer to the documentation on how to address the out of memory issue: https://docs.ray.io/en/latest/ray-core/scheduling/ray-oom-prevention.html. Consider provisioning more memory on this node or reducing task parallelism by requesting more CPUs per task. To adjust the kill threshold, set the environment variable `RAY_memory_usage_threshold` when starting Ray. To disable worker killing, set the environment variable `RAY_memory_monitor_refresh_ms` to zero.\n",
      "\u001b[33m(raylet)\u001b[0m [2024-04-20 14:25:22,541 E 36442 36464] (raylet) file_system_monitor.cc:111: /tmp/ray/session_2024-04-20_13-54-18_156773_36234 is over 95% full, available space: 2756759552; capacity: 77665726464. Object creation will fail if spilling is required.\n",
      "\u001b[33m(raylet)\u001b[0m [2024-04-20 14:25:32,551 E 36442 36464] (raylet) file_system_monitor.cc:111: /tmp/ray/session_2024-04-20_13-54-18_156773_36234 is over 95% full, available space: 2756653056; capacity: 77665726464. Object creation will fail if spilling is required.\n",
      "\u001b[33m(raylet)\u001b[0m [2024-04-20 14:25:42,596 E 36442 36464] (raylet) file_system_monitor.cc:111: /tmp/ray/session_2024-04-20_13-54-18_156773_36234 is over 95% full, available space: 2676609024; capacity: 77665726464. Object creation will fail if spilling is required.\n",
      "\u001b[33m(raylet)\u001b[0m [2024-04-20 14:25:52,618 E 36442 36464] (raylet) file_system_monitor.cc:111: /tmp/ray/session_2024-04-20_13-54-18_156773_36234 is over 95% full, available space: 2504085504; capacity: 77665726464. Object creation will fail if spilling is required.\n",
      "\u001b[33m(raylet)\u001b[0m [2024-04-20 14:26:02,637 E 36442 36464] (raylet) file_system_monitor.cc:111: /tmp/ray/session_2024-04-20_13-54-18_156773_36234 is over 95% full, available space: 2325434368; capacity: 77665726464. Object creation will fail if spilling is required.\n",
      "\u001b[33m(raylet)\u001b[0m [2024-04-20 14:26:12,647 E 36442 36464] (raylet) file_system_monitor.cc:111: /tmp/ray/session_2024-04-20_13-54-18_156773_36234 is over 95% full, available space: 2149568512; capacity: 77665726464. Object creation will fail if spilling is required.\n",
      "\u001b[33m(raylet)\u001b[0m [2024-04-20 14:26:22,655 E 36442 36464] (raylet) file_system_monitor.cc:111: /tmp/ray/session_2024-04-20_13-54-18_156773_36234 is over 95% full, available space: 1980235776; capacity: 77665726464. Object creation will fail if spilling is required.\n",
      "\u001b[33m(raylet)\u001b[0m [2024-04-20 14:26:32,668 E 36442 36464] (raylet) file_system_monitor.cc:111: /tmp/ray/session_2024-04-20_13-54-18_156773_36234 is over 95% full, available space: 1820389376; capacity: 77665726464. Object creation will fail if spilling is required.\n",
      "\u001b[33m(raylet)\u001b[0m [2024-04-20 14:26:42,677 E 36442 36464] (raylet) file_system_monitor.cc:111: /tmp/ray/session_2024-04-20_13-54-18_156773_36234 is over 95% full, available space: 1593970688; capacity: 77665726464. Object creation will fail if spilling is required.\n",
      "\u001b[33m(raylet)\u001b[0m [2024-04-20 14:26:52,688 E 36442 36464] (raylet) file_system_monitor.cc:111: /tmp/ray/session_2024-04-20_13-54-18_156773_36234 is over 95% full, available space: 1438269440; capacity: 77665726464. Object creation will fail if spilling is required.\n",
      "\u001b[33m(raylet)\u001b[0m [2024-04-20 14:27:02,721 E 36442 36464] (raylet) file_system_monitor.cc:111: /tmp/ray/session_2024-04-20_13-54-18_156773_36234 is over 95% full, available space: 1313185792; capacity: 77665726464. Object creation will fail if spilling is required.\n",
      "\u001b[33m(raylet)\u001b[0m [2024-04-20 14:27:12,738 E 36442 36464] (raylet) file_system_monitor.cc:111: /tmp/ray/session_2024-04-20_13-54-18_156773_36234 is over 95% full, available space: 1317502976; capacity: 77665726464. Object creation will fail if spilling is required.\n",
      "\u001b[33m(raylet)\u001b[0m [2024-04-20 14:27:22,753 E 36442 36464] (raylet) file_system_monitor.cc:111: /tmp/ray/session_2024-04-20_13-54-18_156773_36234 is over 95% full, available space: 1315536896; capacity: 77665726464. Object creation will fail if spilling is required.\n",
      "\u001b[33m(raylet)\u001b[0m [2024-04-20 14:27:32,769 E 36442 36464] (raylet) file_system_monitor.cc:111: /tmp/ray/session_2024-04-20_13-54-18_156773_36234 is over 95% full, available space: 1313832960; capacity: 77665726464. Object creation will fail if spilling is required.\n",
      "\u001b[33m(raylet)\u001b[0m [2024-04-20 14:27:42,787 E 36442 36464] (raylet) file_system_monitor.cc:111: /tmp/ray/session_2024-04-20_13-54-18_156773_36234 is over 95% full, available space: 1313308672; capacity: 77665726464. Object creation will fail if spilling is required.\n",
      "\u001b[33m(raylet)\u001b[0m [2024-04-20 14:27:52,804 E 36442 36464] (raylet) file_system_monitor.cc:111: /tmp/ray/session_2024-04-20_13-54-18_156773_36234 is over 95% full, available space: 1312489472; capacity: 77665726464. Object creation will fail if spilling is required.\n",
      "\u001b[33m(raylet)\u001b[0m [2024-04-20 14:28:02,817 E 36442 36464] (raylet) file_system_monitor.cc:111: /tmp/ray/session_2024-04-20_13-54-18_156773_36234 is over 95% full, available space: 1306329088; capacity: 77665726464. Object creation will fail if spilling is required.\n",
      "\u001b[33m(raylet)\u001b[0m [2024-04-20 14:28:12,830 E 36442 36464] (raylet) file_system_monitor.cc:111: /tmp/ray/session_2024-04-20_13-54-18_156773_36234 is over 95% full, available space: 1297956864; capacity: 77665726464. Object creation will fail if spilling is required.\n",
      "\u001b[33m(raylet)\u001b[0m [2024-04-20 14:28:22,840 E 36442 36464] (raylet) file_system_monitor.cc:111: /tmp/ray/session_2024-04-20_13-54-18_156773_36234 is over 95% full, available space: 1292738560; capacity: 77665726464. Object creation will fail if spilling is required.\n",
      "\u001b[33m(raylet)\u001b[0m [2024-04-20 14:28:32,852 E 36442 36464] (raylet) file_system_monitor.cc:111: /tmp/ray/session_2024-04-20_13-54-18_156773_36234 is over 95% full, available space: 1305735168; capacity: 77665726464. Object creation will fail if spilling is required.\n",
      "\u001b[33m(raylet)\u001b[0m [2024-04-20 14:28:42,864 E 36442 36464] (raylet) file_system_monitor.cc:111: /tmp/ray/session_2024-04-20_13-54-18_156773_36234 is over 95% full, available space: 1303166976; capacity: 77665726464. Object creation will fail if spilling is required.\n",
      "\u001b[33m(raylet)\u001b[0m [2024-04-20 14:28:52,875 E 36442 36464] (raylet) file_system_monitor.cc:111: /tmp/ray/session_2024-04-20_13-54-18_156773_36234 is over 95% full, available space: 1300238336; capacity: 77665726464. Object creation will fail if spilling is required.\n",
      "\u001b[33m(raylet)\u001b[0m [2024-04-20 14:29:02,891 E 36442 36464] (raylet) file_system_monitor.cc:111: /tmp/ray/session_2024-04-20_13-54-18_156773_36234 is over 95% full, available space: 1302994944; capacity: 77665726464. Object creation will fail if spilling is required.\n",
      "\u001b[33m(raylet)\u001b[0m [2024-04-20 14:29:12,904 E 36442 36464] (raylet) file_system_monitor.cc:111: /tmp/ray/session_2024-04-20_13-54-18_156773_36234 is over 95% full, available space: 1302622208; capacity: 77665726464. Object creation will fail if spilling is required.\n",
      "\u001b[33m(raylet)\u001b[0m [2024-04-20 14:29:22,912 E 36442 36464] (raylet) file_system_monitor.cc:111: /tmp/ray/session_2024-04-20_13-54-18_156773_36234 is over 95% full, available space: 1302904832; capacity: 77665726464. Object creation will fail if spilling is required.\n",
      "\u001b[33m(raylet)\u001b[0m [2024-04-20 14:29:32,927 E 36442 36464] (raylet) file_system_monitor.cc:111: /tmp/ray/session_2024-04-20_13-54-18_156773_36234 is over 95% full, available space: 1309048832; capacity: 77665726464. Object creation will fail if spilling is required.\n",
      "\u001b[33m(raylet)\u001b[0m [2024-04-20 14:29:42,937 E 36442 36464] (raylet) file_system_monitor.cc:111: /tmp/ray/session_2024-04-20_13-54-18_156773_36234 is over 95% full, available space: 1308704768; capacity: 77665726464. Object creation will fail if spilling is required.\n",
      "\u001b[33m(raylet)\u001b[0m [2024-04-20 14:29:52,948 E 36442 36464] (raylet) file_system_monitor.cc:111: /tmp/ray/session_2024-04-20_13-54-18_156773_36234 is over 95% full, available space: 1308696576; capacity: 77665726464. Object creation will fail if spilling is required.\n",
      "\u001b[33m(raylet)\u001b[0m [2024-04-20 14:30:02,959 E 36442 36464] (raylet) file_system_monitor.cc:111: /tmp/ray/session_2024-04-20_13-54-18_156773_36234 is over 95% full, available space: 1308729344; capacity: 77665726464. Object creation will fail if spilling is required.\n",
      "\u001b[33m(raylet)\u001b[0m [2024-04-20 14:30:12,970 E 36442 36464] (raylet) file_system_monitor.cc:111: /tmp/ray/session_2024-04-20_13-54-18_156773_36234 is over 95% full, available space: 1305169920; capacity: 77665726464. Object creation will fail if spilling is required.\n",
      "\u001b[33m(raylet)\u001b[0m [2024-04-20 14:30:22,983 E 36442 36464] (raylet) file_system_monitor.cc:111: /tmp/ray/session_2024-04-20_13-54-18_156773_36234 is over 95% full, available space: 1304735744; capacity: 77665726464. Object creation will fail if spilling is required.\n",
      "\u001b[33m(raylet)\u001b[0m [2024-04-20 14:30:32,998 E 36442 36464] (raylet) file_system_monitor.cc:111: /tmp/ray/session_2024-04-20_13-54-18_156773_36234 is over 95% full, available space: 1309716480; capacity: 77665726464. Object creation will fail if spilling is required.\n",
      "\u001b[33m(raylet)\u001b[0m [2024-04-20 14:30:43,011 E 36442 36464] (raylet) file_system_monitor.cc:111: /tmp/ray/session_2024-04-20_13-54-18_156773_36234 is over 95% full, available space: 1309757440; capacity: 77665726464. Object creation will fail if spilling is required.\n",
      "\u001b[33m(raylet)\u001b[0m [2024-04-20 14:30:53,023 E 36442 36464] (raylet) file_system_monitor.cc:111: /tmp/ray/session_2024-04-20_13-54-18_156773_36234 is over 95% full, available space: 1309503488; capacity: 77665726464. Object creation will fail if spilling is required.\n",
      "\u001b[33m(raylet)\u001b[0m [2024-04-20 14:31:03,032 E 36442 36464] (raylet) file_system_monitor.cc:111: /tmp/ray/session_2024-04-20_13-54-18_156773_36234 is over 95% full, available space: 1309548544; capacity: 77665726464. Object creation will fail if spilling is required.\n",
      "\u001b[33m(raylet)\u001b[0m [2024-04-20 14:31:13,042 E 36442 36464] (raylet) file_system_monitor.cc:111: /tmp/ray/session_2024-04-20_13-54-18_156773_36234 is over 95% full, available space: 1309528064; capacity: 77665726464. Object creation will fail if spilling is required.\n",
      "\u001b[33m(raylet)\u001b[0m [2024-04-20 14:31:23,052 E 36442 36464] (raylet) file_system_monitor.cc:111: /tmp/ray/session_2024-04-20_13-54-18_156773_36234 is over 95% full, available space: 1305710592; capacity: 77665726464. Object creation will fail if spilling is required.\n",
      "\u001b[33m(raylet)\u001b[0m [2024-04-20 14:31:33,063 E 36442 36464] (raylet) file_system_monitor.cc:111: /tmp/ray/session_2024-04-20_13-54-18_156773_36234 is over 95% full, available space: 1303203840; capacity: 77665726464. Object creation will fail if spilling is required.\n",
      "\u001b[33m(raylet)\u001b[0m [2024-04-20 14:31:43,072 E 36442 36464] (raylet) file_system_monitor.cc:111: /tmp/ray/session_2024-04-20_13-54-18_156773_36234 is over 95% full, available space: 1303162880; capacity: 77665726464. Object creation will fail if spilling is required.\n",
      "\u001b[33m(raylet)\u001b[0m [2024-04-20 14:31:53,083 E 36442 36464] (raylet) file_system_monitor.cc:111: /tmp/ray/session_2024-04-20_13-54-18_156773_36234 is over 95% full, available space: 1303064576; capacity: 77665726464. Object creation will fail if spilling is required.\n",
      "\u001b[33m(raylet)\u001b[0m [2024-04-20 14:32:03,093 E 36442 36464] (raylet) file_system_monitor.cc:111: /tmp/ray/session_2024-04-20_13-54-18_156773_36234 is over 95% full, available space: 1303035904; capacity: 77665726464. Object creation will fail if spilling is required.\n",
      "\u001b[33m(raylet)\u001b[0m [2024-04-20 14:32:13,102 E 36442 36464] (raylet) file_system_monitor.cc:111: /tmp/ray/session_2024-04-20_13-54-18_156773_36234 is over 95% full, available space: 1303027712; capacity: 77665726464. Object creation will fail if spilling is required.\n",
      "\u001b[33m(raylet)\u001b[0m [2024-04-20 14:32:23,112 E 36442 36464] (raylet) file_system_monitor.cc:111: /tmp/ray/session_2024-04-20_13-54-18_156773_36234 is over 95% full, available space: 1302913024; capacity: 77665726464. Object creation will fail if spilling is required.\n",
      "\u001b[33m(raylet)\u001b[0m [2024-04-20 14:32:33,121 E 36442 36464] (raylet) file_system_monitor.cc:111: /tmp/ray/session_2024-04-20_13-54-18_156773_36234 is over 95% full, available space: 1302872064; capacity: 77665726464. Object creation will fail if spilling is required.\n",
      "\u001b[33m(raylet)\u001b[0m [2024-04-20 14:32:43,129 E 36442 36464] (raylet) file_system_monitor.cc:111: /tmp/ray/session_2024-04-20_13-54-18_156773_36234 is over 95% full, available space: 1302851584; capacity: 77665726464. Object creation will fail if spilling is required.\n",
      "\u001b[33m(raylet)\u001b[0m [2024-04-20 14:32:53,137 E 36442 36464] (raylet) file_system_monitor.cc:111: /tmp/ray/session_2024-04-20_13-54-18_156773_36234 is over 95% full, available space: 1302851584; capacity: 77665726464. Object creation will fail if spilling is required.\n",
      "\u001b[33m(raylet)\u001b[0m [2024-04-20 14:33:03,146 E 36442 36464] (raylet) file_system_monitor.cc:111: /tmp/ray/session_2024-04-20_13-54-18_156773_36234 is over 95% full, available space: 1302822912; capacity: 77665726464. Object creation will fail if spilling is required.\n",
      "\u001b[33m(raylet)\u001b[0m [2024-04-20 14:33:13,156 E 36442 36464] (raylet) file_system_monitor.cc:111: /tmp/ray/session_2024-04-20_13-54-18_156773_36234 is over 95% full, available space: 1017593856; capacity: 77665726464. Object creation will fail if spilling is required.\n",
      "\u001b[36m(merge_sort pid=89465)\u001b[0m [*** LOG ERROR #0001 ***] [2024-04-20 14:33:21] [ray_log_sink] Failed writing to file /tmp/ray/session_2024-04-20_13-54-18_156773_36234/logs/python-core-worker-36d204a87f2911ad38c83f9296c69f381b5c0d3f0f2a470a620fc3f3_89465.log: No space left on device\n",
      "\u001b[33m(raylet)\u001b[0m [2024-04-20 14:33:23,168 E 36442 36464] (raylet) file_system_monitor.cc:111: /tmp/ray/session_2024-04-20_13-54-18_156773_36234 is over 95% full, available space: 0; capacity: 77665726464. Object creation will fail if spilling is required.\n"
     ]
    }
   ],
   "source": [
    "if ray.is_initialized:\n",
    "    ray.shutdown()\n",
    "ray.init(ignore_reinit_error=True)"
   ]
  },
  {
   "cell_type": "code",
   "execution_count": 6,
   "id": "fb85268744fc62ba",
   "metadata": {
    "collapsed": false
   },
   "outputs": [],
   "source": [
    "# This function is a proxy for a more interesting and computationally\n",
    "# intensive function.\n",
    "@ray.remote\n",
    "def slow_function(i):\n",
    "    time.sleep(1)\n",
    "    return i"
   ]
  },
  {
   "cell_type": "markdown",
   "id": "5c4646fb8e9d5f93",
   "metadata": {
    "collapsed": false
   },
   "source": [
    "**EXERCISE:** The loop below takes too long. The four function calls could be executed in parallel. Instead of four seconds, it should only take one second. Once `slow_function` has been made a remote function, execute these four tasks in parallel by calling `slow_function.remote()`. Then obtain the results by calling `ray.get` on a list of the resulting object IDs."
   ]
  },
  {
   "cell_type": "code",
   "execution_count": 7,
   "id": "ca6151ffe5a4383e",
   "metadata": {
    "collapsed": false
   },
   "outputs": [
    {
     "name": "stdout",
     "output_type": "stream",
     "text": [
      "The results are [0, 1, 2, 3]. This took 1.013838768005371 seconds. Run the next cell to see if the exercise was done correctly.\n"
     ]
    }
   ],
   "source": [
    "# Sleep a little to improve the accuracy of the timing measurements below.\n",
    "# We do this because workers may still be starting up in the background.\n",
    "\n",
    "time.sleep(2.0)\n",
    "start_time = time.time()\n",
    "\n",
    "results = ray.get([slow_function.remote(i) for i in range(4)])\n",
    "\n",
    "end_time = time.time()\n",
    "duration = end_time - start_time\n",
    "\n",
    "print('The results are {}. This took {} seconds. Run the next cell to see '\n",
    "      'if the exercise was done correctly.'.format(results, duration))"
   ]
  },
  {
   "cell_type": "markdown",
   "id": "e07bc6009fe78751",
   "metadata": {
    "collapsed": false
   },
   "source": [
    "**VERIFY:** Run some checks to verify that the changes you made to the code were correct. Some of the checks should fail when you initially run the cells. After completing the exercises, the checks should pass."
   ]
  },
  {
   "cell_type": "code",
   "execution_count": 8,
   "id": "90ebedc34cecbb95",
   "metadata": {
    "collapsed": false
   },
   "outputs": [
    {
     "name": "stdout",
     "output_type": "stream",
     "text": [
      "Success! The example took 1.013838768005371 seconds.\n"
     ]
    }
   ],
   "source": [
    "assert results == [0, 1, 2, 3], 'Did you remember to call ray.get?'\n",
    "assert duration < 1.1, ('The loop took {} seconds. This is too slow.'\n",
    "                        .format(duration))\n",
    "assert duration > 1, ('The loop took {} seconds. This is too fast.'\n",
    "                      .format(duration))\n",
    "\n",
    "print('Success! The example took {} seconds.'.format(duration))"
   ]
  },
  {
   "cell_type": "markdown",
   "id": "60138313f53b48a3",
   "metadata": {
    "collapsed": false
   },
   "source": [
    "** Example Generating Fibonnaci series **\n",
    "Let's define two functions: one runs locally or serially, the other runs on a Ray cluster (local or remote). Please implment it"
   ]
  },
  {
   "cell_type": "code",
   "execution_count": 9,
   "id": "5dfc292ebb5a982b",
   "metadata": {
    "collapsed": false
   },
   "outputs": [],
   "source": [
    "# Function for local fibonacci computation\n",
    "def generate_fibonacci(sequence_size):\n",
    "    fibonacci = []\n",
    "    for i in range(0, sequence_size):\n",
    "        if i < 2:\n",
    "            fibonacci.append(i)\n",
    "            continue\n",
    "        fibonacci.append(fibonacci[i-1] + fibonacci[i-2])\n",
    "    return len(fibonacci)\n",
    "    # return length of table with generated fibonnachi numbers\n",
    "    # do not use recursion, reuse allocated table\n",
    "\n",
    "# Function for remote Ray task with just a wrapper\n",
    "@ray.remote\n",
    "def generate_fibonacci_distributed(sequence_size):\n",
    "    return generate_fibonacci(sequence_size)"
   ]
  },
  {
   "cell_type": "code",
   "execution_count": 10,
   "id": "22a15f29d14df7b6",
   "metadata": {
    "collapsed": false
   },
   "outputs": [
    {
     "data": {
      "text/plain": [
       "8"
      ]
     },
     "execution_count": 10,
     "metadata": {},
     "output_type": "execute_result"
    }
   ],
   "source": [
    "# Get the number of cores for better parralelism\n",
    "os.cpu_count()"
   ]
  },
  {
   "cell_type": "code",
   "execution_count": 12,
   "id": "9cbd8721a3c6ff94",
   "metadata": {
    "collapsed": false
   },
   "outputs": [
    {
     "name": "stdout",
     "output_type": "stream",
     "text": [
      "CPU times: user 15.9 ms, sys: 6.69 ms, total: 22.6 ms\n",
      "Wall time: 1.02 s\n"
     ]
    },
    {
     "data": {
      "text/plain": [
       "[100000, 100000, 100000, 100000, 100000, 100000, 100000, 100000]"
      ]
     },
     "execution_count": 12,
     "metadata": {},
     "output_type": "execute_result"
    }
   ],
   "source": [
    "# Distributed on a Ray cluster\n",
    "def run_remote(sequence_size):\n",
    "    results = ray.get([generate_fibonacci_distributed.remote(sequence_size) for _ in range(os.cpu_count())])\n",
    "    return results\n",
    "\n",
    "%time run_remote(SEQUENCE_SIZE)"
   ]
  },
  {
   "cell_type": "code",
   "execution_count": 13,
   "id": "667b6946b4641f33",
   "metadata": {
    "collapsed": false
   },
   "outputs": [
    {
     "name": "stdout",
     "output_type": "stream",
     "text": [
      "CPU times: user 21.2 ms, sys: 549 µs, total: 21.7 ms\n",
      "Wall time: 765 ms\n"
     ]
    },
    {
     "data": {
      "text/plain": [
       "[100000, 100000, 100000, 100000, 100000, 100000, 100000, 100000]"
      ]
     },
     "execution_count": 13,
     "metadata": {},
     "output_type": "execute_result"
    }
   ],
   "source": [
    "# Distributed on a Ray cluster\n",
    "def run_remote(sequence_size):\n",
    "    results = ray.get([generate_fibonacci_distributed.remote(sequence_size) for _ in range(os.cpu_count())])\n",
    "    return results\n",
    "\n",
    "%time run_remote(SEQUENCE_SIZE)"
   ]
  },
  {
   "cell_type": "markdown",
   "id": "5955a53ffcf75185",
   "metadata": {
    "collapsed": false
   },
   "source": [
    "***\n",
    "## Part 2 - Parallel Data Processing with Task Dependencies\n",
    "\n",
    "**GOAL:** The goal of this exercise is to show how to pass object IDs into remote functions to encode dependencies between tasks.\n",
    "\n",
    "In this exercise, we construct a sequence of tasks each of which depends on the previous mimicking a data parallel application. Within each sequence, tasks are executed serially, but multiple sequences can be executed in parallel.\n",
    "\n",
    "In this exercise, you will use Ray to parallelize the computation below and speed it up.\n",
    "\n",
    "### Concept for this Exercise - Task Dependencies\n",
    "\n",
    "Suppose we have two remote functions defined as follows.\n",
    "\n",
    "```python\n",
    "@ray.remote\n",
    "def f(x):\n",
    "    return x\n",
    "```\n",
    "\n",
    "Arguments can be passed into remote functions as usual.\n",
    "\n",
    "```python\n",
    ">>> x1_id = f.remote(1)\n",
    ">>> ray.get(x1_id)\n",
    "1\n",
    "\n",
    ">>> x2_id = f.remote([1, 2, 3])\n",
    ">>> ray.get(x2_id)\n",
    "[1, 2, 3]\n",
    "```\n",
    "\n",
    "**Object IDs** can also be passed into remote functions. When the function actually gets executed, **the argument will be a retrieved as a regular Python object**.\n",
    "\n",
    "```python\n",
    ">>> y1_id = f.remote(x1_id)\n",
    ">>> ray.get(y1_id)\n",
    "1\n",
    "\n",
    ">>> y2_id = f.remote(x2_id)\n",
    ">>> ray.get(y2_id)\n",
    "[1, 2, 3]\n",
    "```\n",
    "\n",
    "So when implementing a remote function, the function should expect a regular Python object regardless of whether the caller passes in a regular Python object or an object ID.\n",
    "\n",
    "**Task dependencies affect scheduling.** In the example above, the task that creates `y1_id` depends on the task that creates `x1_id`. This has the following implications.\n",
    "\n",
    "- The second task will not be executed until the first task has finished executing.\n",
    "- If the two tasks are scheduled on different machines, the output of the first task (the value corresponding to `x1_id`) will be copied over the network to the machine where the second task is scheduled.\n"
   ]
  },
  {
   "cell_type": "markdown",
   "id": "b88e887feff3e438",
   "metadata": {
    "collapsed": false
   },
   "source": [
    "These are some helper functions that mimic an example pattern of a data parallel application.\n",
    "\n",
    "**EXERCISE:** You will need to turn all of these functions into remote functions. When you turn these functions into remote function, you do not have to worry about whether the caller passes in an object ID or a regular object. In both cases, the arguments will be regular objects when the function executes. This means that even if you pass in an object ID, you **do not need to call `ray.get`** inside of these remote functions."
   ]
  },
  {
   "cell_type": "code",
   "execution_count": 14,
   "id": "8b739cc28319de38",
   "metadata": {
    "collapsed": false
   },
   "outputs": [],
   "source": [
    "@ray.remote\n",
    "def load_data(filename):\n",
    "    time.sleep(0.1)\n",
    "    return np.ones((1000, 100))\n",
    "\n",
    "@ray.remote\n",
    "def normalize_data(data):\n",
    "    time.sleep(0.1)\n",
    "    return data - np.mean(data, axis=0)\n",
    "\n",
    "@ray.remote\n",
    "def extract_features(normalized_data):\n",
    "    time.sleep(0.1)\n",
    "    return np.hstack([normalized_data, normalized_data ** 2])\n",
    "\n",
    "@ray.remote\n",
    "def compute_loss(features):\n",
    "    num_data, dim = features.shape\n",
    "    time.sleep(0.1)\n",
    "    return np.sum((np.dot(features, np.ones(dim)) - np.ones(num_data)) ** 2)\n",
    "\n",
    "assert hasattr(load_data, 'remote'), 'load_data must be a remote function'\n",
    "assert hasattr(normalize_data, 'remote'), 'normalize_data must be a remote function'\n",
    "assert hasattr(extract_features, 'remote'), 'extract_features must be a remote function'\n",
    "assert hasattr(compute_loss, 'remote'), 'compute_loss must be a remote function'"
   ]
  },
  {
   "cell_type": "markdown",
   "id": "6f031d1ddeb96bc2",
   "metadata": {
    "collapsed": false
   },
   "source": [
    "**EXERCISE:** The loop below takes too long. Parallelize the four passes through the loop by turning `load_data`, `normalize_data`, `extract_features`, and `compute_loss` into remote functions and then retrieving the losses with `ray.get`.\n",
    "\n",
    "**NOTE:** You should only use **ONE** call to `ray.get`. For example, the object ID returned by `load_data` should be passed directly into `normalize_data` without needing to be retrieved by the driver."
   ]
  },
  {
   "cell_type": "code",
   "execution_count": 15,
   "id": "5f11fd817ae6b435",
   "metadata": {
    "collapsed": false
   },
   "outputs": [
    {
     "name": "stdout",
     "output_type": "stream",
     "text": [
      "The losses are [1000.0, 1000.0, 1000.0, 1000.0].\n",
      "\n",
      "The loss is 4000.0. This took 0.5983073711395264 seconds. Run the next cell to see if the exercise was done correctly.\n"
     ]
    }
   ],
   "source": [
    "# Sleep a little to improve the accuracy of the timing measurements below.\n",
    "time.sleep(2.0)\n",
    "start_time = time.time()\n",
    "\n",
    "losses = []\n",
    "for filename in ['file1', 'file2', 'file3', 'file4']:\n",
    "    inner_start = time.time()\n",
    "\n",
    "    data = load_data.remote(filename)\n",
    "    normalized_data = normalize_data.remote(data)\n",
    "    features = extract_features.remote(normalized_data)\n",
    "    loss = compute_loss.remote(features)\n",
    "    losses.append(loss)\n",
    "    \n",
    "    inner_end = time.time()\n",
    "    \n",
    "    if inner_end - inner_start >= 0.1:\n",
    "        raise Exception('You may be calling ray.get inside of the for loop! '\n",
    "                        'Doing this will prevent parallelism from being exposed. '\n",
    "                        'Make sure to only call ray.get once outside of the for loop.')\n",
    "\n",
    "losses = ray.get(losses)\n",
    "print('The losses are {}.'.format(losses) + '\\n')\n",
    "loss = sum(losses)\n",
    "\n",
    "end_time = time.time()\n",
    "duration = end_time - start_time\n",
    "\n",
    "print('The loss is {}. This took {} seconds. Run the next cell to see '\n",
    "      'if the exercise was done correctly.'.format(loss, duration))"
   ]
  },
  {
   "cell_type": "markdown",
   "id": "bbfac1ca0c96db37",
   "metadata": {
    "collapsed": false
   },
   "source": [
    "**VERIFY:** Run some checks to verify that the changes you made to the code were correct. Some of the checks should fail when you initially run the cells. After completing the exercises, the checks should pass."
   ]
  },
  {
   "cell_type": "code",
   "execution_count": 16,
   "id": "a4cb48fa6fc3671e",
   "metadata": {
    "collapsed": false
   },
   "outputs": [
    {
     "name": "stdout",
     "output_type": "stream",
     "text": [
      "Success! The example took 0.5983073711395264 seconds.\n"
     ]
    }
   ],
   "source": [
    "assert loss == 4000\n",
    "assert duration < 0.8, ('The loop took {} seconds. This is too slow.'\n",
    "                        .format(duration))\n",
    "assert duration > 0.4, ('The loop took {} seconds. This is too fast.'\n",
    "                        .format(duration))\n",
    "\n",
    "print('Success! The example took {} seconds.'.format(duration))"
   ]
  },
  {
   "cell_type": "markdown",
   "id": "6750753a1dd13313",
   "metadata": {
    "collapsed": false
   },
   "source": [
    "***\n",
    "## Part 3 - Introducing Actors\n",
    "\n",
    "**Goal:** The goal of this exercise is to show how to create an actor and how to call actor methods.\n",
    "\n",
    "See the documentation on actors at https://docs.ray.io/en/latest/ray-core/actors.html.\n",
    "\n",
    "Sometimes you need a \"worker\" process to have \"state\". For example, that state might be a neural network, a simulator environment, a counter, or something else entirely. However, remote functions are side-effect free. That is, they operate on inputs and produce outputs, but they don't change the state of the worker they execute on.\n",
    "\n",
    "Actors are different. When we instantiate an actor, a brand new worker is created, and all methods that are called on that actor are executed on the newly created worker.\n",
    "\n",
    "This means that with a single actor, no parallelism can be achieved because calls to the actor's methods will be executed one at a time. However, multiple actors can be created and methods can be executed on them in parallel.\n",
    "\n",
    "### Concepts for this Exercise - Actors\n",
    "\n",
    "To create an actor, decorate Python class with the `@ray.remote` decorator.\n",
    "\n",
    "```python\n",
    "@ray.remote\n",
    "class Example(object):\n",
    "    def __init__(self, x):\n",
    "        self.x = x\n",
    "    \n",
    "    def set(self, x):\n",
    "        self.x = x\n",
    "    \n",
    "    def get(self):\n",
    "        return self.x\n",
    "```\n",
    "\n",
    "Like regular Python classes, **actors encapsulate state that is shared across actor method invocations**.\n",
    "\n",
    "Actor classes differ from regular Python classes in the following ways.\n",
    "1. **Instantiation:** A regular class would be instantiated via `e = Example(1)`. Actors are instantiated via\n",
    "    ```python\n",
    "    e = Example.remote(1)\n",
    "    ```\n",
    "    When an actor is instantiated, a **new worker process** is created by a local scheduler somewhere in the cluster.\n",
    "2. **Method Invocation:** Methods of a regular class would be invoked via `e.set(2)` or `e.get()`. Actor methods are invoked differently.\n",
    "    ```python\n",
    "    >>> e.set.remote(2)\n",
    "    ObjectID(d966aa9b6486331dc2257522734a69ff603e5a1c)\n",
    "    \n",
    "    >>> e.get.remote()\n",
    "    ObjectID(7c432c085864ed4c7c18cf112377a608676afbc3)\n",
    "    ```\n",
    "3. **Return Values:** Actor methods are non-blocking. They immediately return an object ID and **they create a task which is scheduled on the actor worker**. The result can be retrieved with `ray.get`.\n",
    "    ```python\n",
    "    >>> ray.get(e.set.remote(2))\n",
    "    None\n",
    "    \n",
    "    >>> ray.get(e.get.remote())\n",
    "    2\n",
    "    ```"
   ]
  },
  {
   "cell_type": "markdown",
   "id": "136d2f7e4b154088",
   "metadata": {
    "collapsed": false
   },
   "source": [
    "**EXERCISE:** Change the `Foo` class to be an actor class by using the `@ray.remote` decorator."
   ]
  },
  {
   "cell_type": "code",
   "execution_count": 17,
   "id": "e027e2a2af11648e",
   "metadata": {
    "collapsed": false
   },
   "outputs": [],
   "source": [
    "@ray.remote\n",
    "class Foo(object):\n",
    "    def __init__(self):\n",
    "        self.counter = 0\n",
    "\n",
    "    def reset(self):\n",
    "        self.counter = 0\n",
    "\n",
    "    def increment(self):\n",
    "        time.sleep(0.5)\n",
    "        self.counter += 1\n",
    "        return self.counter\n",
    "\n",
    "assert hasattr(Foo, 'remote'), 'You need to turn \"Foo\" into an actor with @ray.remote.'"
   ]
  },
  {
   "cell_type": "markdown",
   "id": "a654a0b9ffe4d2b0",
   "metadata": {
    "collapsed": false
   },
   "source": [
    "**EXERCISE:** Change the intantiations below to create two actors by calling `Foo.remote()`."
   ]
  },
  {
   "cell_type": "code",
   "execution_count": 18,
   "id": "6b68dfb348c94076",
   "metadata": {
    "collapsed": false
   },
   "outputs": [],
   "source": [
    "# Create two Foo objects.\n",
    "f1 = Foo.remote()\n",
    "f2 = Foo.remote()"
   ]
  },
  {
   "cell_type": "markdown",
   "id": "eba108b7ba52ddf7",
   "metadata": {
    "collapsed": false
   },
   "source": [
    "**EXERCISE:** Parallelize the code below. The two actors can execute methods in parallel (though each actor can only execute one method at a time)."
   ]
  },
  {
   "cell_type": "code",
   "execution_count": 19,
   "id": "c537e12344716e0",
   "metadata": {
    "collapsed": false
   },
   "outputs": [
    {
     "name": "stdout",
     "output_type": "stream",
     "text": [
      "Success! The example took 2.520374298095703 seconds.\n"
     ]
    }
   ],
   "source": [
    "# Sleep a little to improve the accuracy of the timing measurements below.\n",
    "time.sleep(2.0)\n",
    "start_time = time.time()\n",
    "\n",
    "# Reset the actor state so that we can run this cell multiple times without\n",
    "# changing the results.\n",
    "f1.reset.remote()\n",
    "f2.reset.remote()\n",
    "\n",
    "# We want to parallelize this code. However, it is not straightforward to\n",
    "# make \"increment\" a remote function, because state is shared (the value of\n",
    "# \"self.counter\") between subsequent calls to \"increment\". In this case, it\n",
    "# makes sense to use actors.\n",
    "results = []\n",
    "for _ in range(5):\n",
    "    results.append(f1.increment.remote())\n",
    "    results.append(f2.increment.remote())\n",
    "\n",
    "results = ray.get(results)\n",
    "end_time = time.time()\n",
    "duration = end_time - start_time\n",
    "\n",
    "print('Success! The example took {} seconds.'.format(duration))\n",
    "\n",
    "assert not any([isinstance(result, ray.ObjectID) for result in results]), 'Looks like \"results\" is {}. You may have forgotten to call ray.get.'.format(results)"
   ]
  },
  {
   "cell_type": "markdown",
   "id": "85bf30d5a992ecc6",
   "metadata": {
    "collapsed": false
   },
   "source": [
    "**VERIFY:** Run some checks to verify that the changes you made to the code were correct. Some of the checks should fail when you initially run the cells. After completing the exercises, the checks should pass."
   ]
  },
  {
   "cell_type": "code",
   "execution_count": 20,
   "id": "b97d77030a0685c9",
   "metadata": {
    "collapsed": false
   },
   "outputs": [
    {
     "name": "stdout",
     "output_type": "stream",
     "text": [
      "Success! The example took 2.520374298095703 seconds.\n"
     ]
    }
   ],
   "source": [
    "assert results == [1, 1, 2, 2, 3, 3, 4, 4, 5, 5]\n",
    "\n",
    "assert duration < 3, ('The experiments ran in {} seconds. This is too '\n",
    "                      'slow.'.format(duration))\n",
    "assert duration > 2.5, ('The experiments ran in {} seconds. This is too '\n",
    "                        'fast.'.format(duration))\n",
    "\n",
    "print('Success! The example took {} seconds.'.format(duration))"
   ]
  },
  {
   "cell_type": "markdown",
   "id": "515b25c1cc382a7d",
   "metadata": {
    "collapsed": false
   },
   "source": [
    "***\n",
    "## Part 4 - Handling Slow Tasks\n",
    "\n",
    "**GOAL:** The goal of this exercise is to show how to use `ray.wait` to avoid waiting for slow tasks.\n",
    "\n",
    "See the documentation for ray.wait at https://docs.ray.io/en/latest/ray-core/api/doc/ray.wait.html.\n",
    "\n",
    "This script starts 6 tasks, each of which takes a random amount of time to complete. We'd like to process the results in two batches (each of size 3). Change the code so that instead of waiting for a fixed set of 3 tasks to finish, we make the first batch consist of the first 3 tasks that complete. The second batch should consist of the 3 remaining tasks. Do this exercise by using `ray.wait`.\n",
    "\n",
    "### Concepts for this Exercise - ray.wait\n",
    "\n",
    "After launching a number of tasks, you may want to know which ones have finished executing. This can be done with `ray.wait`. The function works as follows.\n",
    "\n",
    "```python\n",
    "ready_ids, remaining_ids = ray.wait(object_ids, num_returns=1, timeout=None)\n",
    "```\n",
    "\n",
    "**Arguments:**\n",
    "- `object_ids`: This is a list of object IDs.\n",
    "- `num_returns`: This is maximum number of object IDs to wait for. The default value is `1`.\n",
    "- `timeout`: This is the maximum amount of time in milliseconds to wait for. So `ray.wait` will block until either `num_returns` objects are ready or until `timeout` milliseconds have passed.\n",
    "\n",
    "**Return values:**\n",
    "- `ready_ids`: This is a list of object IDs that are available in the object store.\n",
    "- `remaining_ids`: This is a list of the IDs that were in `object_ids` but are not in `ready_ids`, so the IDs in `ready_ids` and `remaining_ids` together make up all the IDs in `object_ids`."
   ]
  },
  {
   "cell_type": "markdown",
   "id": "42a962991ebe87c9",
   "metadata": {
    "collapsed": false
   },
   "source": [
    "Define a remote function that takes a variable amount of time to run."
   ]
  },
  {
   "cell_type": "code",
   "execution_count": 21,
   "id": "f074581413569513",
   "metadata": {
    "collapsed": false
   },
   "outputs": [],
   "source": [
    "@ray.remote\n",
    "def f(i):\n",
    "    np.random.seed(5 + i)\n",
    "    x = np.random.uniform(0, 4)\n",
    "    time.sleep(x)\n",
    "    return i, time.time()"
   ]
  },
  {
   "cell_type": "markdown",
   "id": "e1d5df3925dc3632",
   "metadata": {
    "collapsed": false
   },
   "source": [
    "**EXERCISE:** Using `ray.wait`, change the code below so that `initial_results` consists of the outputs of the first three tasks to complete instead of the first three tasks that were submitted."
   ]
  },
  {
   "cell_type": "code",
   "execution_count": 22,
   "id": "8bc87828350d4f8",
   "metadata": {
    "collapsed": false
   },
   "outputs": [],
   "source": [
    "# Sleep a little to improve the accuracy of the timing measurements below.\n",
    "time.sleep(2.0)\n",
    "start_time = time.time()\n",
    "\n",
    "# This launches 6 tasks, each of which takes a random amount of time to\n",
    "# complete.\n",
    "result_ids = [f.remote(i) for i in range(6)]\n",
    "# Get one batch of tasks. Instead of waiting for a fixed subset of tasks, we\n",
    "# should instead use the first 3 tasks that finish.\n",
    "initial_results, remaining_results = ray.wait(result_ids, num_returns=3, timeout=None)\n",
    "\n",
    "end_time = time.time()\n",
    "duration = end_time - start_time"
   ]
  },
  {
   "cell_type": "markdown",
   "id": "bc690fab568a7b2c",
   "metadata": {
    "collapsed": false
   },
   "source": [
    "**EXERCISE:** Change the code below so that `remaining_results` consists of the outputs of the last three tasks to complete."
   ]
  },
  {
   "cell_type": "code",
   "execution_count": 23,
   "id": "f572438b64f3109e",
   "metadata": {
    "collapsed": false
   },
   "outputs": [],
   "source": [
    "# Wait for the remaining tasks to complete.\n",
    "remaining_results, _ = ray.wait(remaining_results, num_returns=3, timeout=None)\n",
    "remaining_results = ray.get(remaining_results)\n",
    "initial_results = ray.get(initial_results)"
   ]
  },
  {
   "cell_type": "markdown",
   "id": "bc3963e7a331d603",
   "metadata": {
    "collapsed": false
   },
   "source": [
    "**VERIFY:** Run some checks to verify that the changes you made to the code were correct. Some of the checks should fail when you initially run the cells. After completing the exercises, the checks should pass."
   ]
  },
  {
   "cell_type": "code",
   "execution_count": 24,
   "id": "7f868867384aa5d9",
   "metadata": {
    "collapsed": false
   },
   "outputs": [
    {
     "name": "stdout",
     "output_type": "stream",
     "text": [
      "Success! The example took 0.8987307548522949 seconds.\n"
     ]
    }
   ],
   "source": [
    "assert len(initial_results) == 3\n",
    "assert len(remaining_results) == 3\n",
    "\n",
    "initial_indices = [result[0] for result in initial_results]\n",
    "initial_times = [result[1] for result in initial_results]\n",
    "remaining_indices = [result[0] for result in remaining_results]\n",
    "remaining_times = [result[1] for result in remaining_results]\n",
    "\n",
    "assert set(initial_indices + remaining_indices) == set(range(6))\n",
    "\n",
    "assert duration < 1.5, ('The initial batch of ten tasks was retrieved in '\n",
    "                        '{} seconds. This is too slow.'.format(duration))\n",
    "\n",
    "assert duration > 0.8, ('The initial batch of ten tasks was retrieved in '\n",
    "                        '{} seconds. This is too fast.'.format(duration))\n",
    "\n",
    "# Make sure the initial results actually completed first.\n",
    "assert max(initial_times) < min(remaining_times)\n",
    "\n",
    "print('Success! The example took {} seconds.'.format(duration))"
   ]
  },
  {
   "cell_type": "markdown",
   "id": "f6bb8c54778eae68",
   "metadata": {
    "collapsed": false
   },
   "source": [
    "## Part 5 - Speed up Serialization\n",
    "\n",
    "**GOAL:** The goal of this exercise is to illustrate how to speed up serialization by using `ray.put`.\n",
    "\n",
    "### Concepts for this Exercise - ray.put\n",
    "\n",
    "Object IDs can be created in multiple ways.\n",
    "- They are returned by remote function calls.\n",
    "- They are returned by actor method calls.\n",
    "- They are returned by `ray.put`.\n",
    "\n",
    "When an object is passed to `ray.put`, the object is serialized using the Apache Arrow format (see https://arrow.apache.org/ for more information about Arrow) and copied into a shared memory object store. This object will then be available to other workers on the same machine via shared memory. If it is needed by workers on another machine, it will be shipped under the hood.\n",
    "\n",
    "**When objects are passed into a remote function, Ray puts them in the object store under the hood.** That is, if `f` is a remote function, the code\n",
    "\n",
    "```python\n",
    "x = np.zeros(1000)\n",
    "f.remote(x)\n",
    "```\n",
    "\n",
    "is essentially transformed under the hood to\n",
    "\n",
    "```python\n",
    "x = np.zeros(1000)\n",
    "x_id = ray.put(x)\n",
    "f.remote(x_id)\n",
    "```\n",
    "\n",
    "The call to `ray.put` copies the numpy array into the shared-memory object store, from where it can be read by all of the worker processes (without additional copying). However, if you do something like\n",
    "\n",
    "```python\n",
    "for i in range(10):\n",
    "    f.remote(x)\n",
    "```\n",
    "\n",
    "then 10 copies of the array will be placed into the object store. This takes up more memory in the object store than is necessary, and it also takes time to copy the array into the object store over and over. This can be made more efficient by placing the array in the object store only once as follows.\n",
    "\n",
    "```python\n",
    "x_id = ray.put(x)\n",
    "for i in range(10):\n",
    "    f.remote(x_id)\n",
    "```\n",
    "\n",
    "In this exercise, you will speed up the code below and reduce the memory footprint by calling `ray.put` on the neural net weights before passing them into the remote functions.\n",
    "\n",
    "**WARNING:** This exercise requires a lot of memory to run. If this notebook is running within a Docker container, then the docker container must be started with a large shared-memory file system. This can be done by starting the docker container with the `--shm-size` flag."
   ]
  },
  {
   "cell_type": "code",
   "execution_count": 25,
   "id": "60242482e441eeeb",
   "metadata": {
    "collapsed": false
   },
   "outputs": [],
   "source": [
    "neural_net_weights = {'variable{}'.format(i): np.random.normal(size=1000000)\n",
    "                      for i in range(50)}"
   ]
  },
  {
   "cell_type": "markdown",
   "id": "5e201ddd40933862",
   "metadata": {
    "collapsed": false
   },
   "source": [
    "**EXERCISE:** Compare the time required to serialize the neural net weights and copy them into the object store using Ray versus the time required to pickle and unpickle the weights. The big win should be with the time required for *deserialization*.\n",
    "\n",
    "Note that when you call `ray.put`, in addition to serializing the object, we are copying it into shared memory where it can be efficiently accessed by other workers on the same machine.\n",
    "\n",
    "**NOTE:** You don't actually have to do anything here other than run the cell below and read the output.\n",
    "\n",
    "**NOTE:** Sometimes `ray.put` can be faster than `pickle.dumps`. This is because `ray.put` leverages multiple threads when serializing large objects. Note that this is not possible with `pickle`."
   ]
  },
  {
   "cell_type": "code",
   "execution_count": 27,
   "id": "a54d5c96fbb07160",
   "metadata": {
    "collapsed": false
   },
   "outputs": [
    {
     "name": "stdout",
     "output_type": "stream",
     "text": [
      "Ray - serializing\n",
      "CPU times: user 0 ns, sys: 137 ms, total: 137 ms\n",
      "Wall time: 82.3 ms\n",
      "\n",
      "Ray - deserializing\n",
      "CPU times: user 0 ns, sys: 630 µs, total: 630 µs\n",
      "Wall time: 452 µs\n",
      "\n",
      "pickle - serializing\n",
      "CPU times: user 102 ms, sys: 297 ms, total: 399 ms\n",
      "Wall time: 396 ms\n",
      "\n",
      "pickle - deserializing\n",
      "CPU times: user 63 ms, sys: 98.5 ms, total: 162 ms\n",
      "Wall time: 161 ms\n"
     ]
    }
   ],
   "source": [
    "print('Ray - serializing')\n",
    "%time x_id = ray.put(neural_net_weights)\n",
    "print('\\nRay - deserializing')\n",
    "%time x_val = ray.get(x_id)\n",
    "\n",
    "print('\\npickle - serializing')\n",
    "%time serialized = pickle.dumps(neural_net_weights)\n",
    "print('\\npickle - deserializing')\n",
    "%time deserialized = pickle.loads(serialized)"
   ]
  },
  {
   "cell_type": "markdown",
   "id": "79881ec1b5f3edab",
   "metadata": {
    "collapsed": false
   },
   "source": [
    "Define a remote function which uses the neural net weights."
   ]
  },
  {
   "cell_type": "code",
   "execution_count": 28,
   "id": "878a4b621cc8d7f8",
   "metadata": {
    "collapsed": false
   },
   "outputs": [],
   "source": [
    "@ray.remote\n",
    "def use_weights(weights, i):\n",
    "    len(weights)\n",
    "    return i"
   ]
  },
  {
   "cell_type": "markdown",
   "id": "7490b7fc637eee85",
   "metadata": {
    "collapsed": false
   },
   "source": [
    "**EXERCISE:** In the code below, use `ray.put` to avoid copying the neural net weights to the object store multiple times."
   ]
  },
  {
   "cell_type": "code",
   "execution_count": 40,
   "id": "a64f7226e496f9d1",
   "metadata": {
    "collapsed": false
   },
   "outputs": [],
   "source": [
    "# Sleep a little to improve the accuracy of the timing measurements below.\n",
    "time.sleep(2.0)\n",
    "start_time = time.time()\n",
    "\n",
    "results = []\n",
    "neural_net_weights_id = ray.put(neural_net_weights)\n",
    "results = ray.get([use_weights.remote(neural_net_weights_id, i)\n",
    "                   for i in range(20)])\n",
    "\n",
    "end_time = time.time()\n",
    "duration = end_time - start_time"
   ]
  },
  {
   "cell_type": "markdown",
   "id": "ac5a46dfaf9b4496",
   "metadata": {
    "collapsed": false
   },
   "source": [
    "**VERIFY:** Run some checks to verify that the changes you made to the code were correct. Some of the checks should fail when you initially run the cells. After completing the exercises, the checks should pass."
   ]
  },
  {
   "cell_type": "code",
   "execution_count": 41,
   "id": "b487df9262dbda79",
   "metadata": {
    "collapsed": false
   },
   "outputs": [
    {
     "name": "stdout",
     "output_type": "stream",
     "text": [
      "Success! The example took 0.18226909637451172 seconds.\n"
     ]
    }
   ],
   "source": [
    "assert results == list(range(20))\n",
    "assert duration < 1, ('The experiments ran in {} seconds. This is too '\n",
    "                      'slow.'.format(duration))\n",
    "\n",
    "print('Success! The example took {} seconds.'.format(duration))"
   ]
  },
  {
   "cell_type": "code",
   "execution_count": 42,
   "id": "aa9f3cdf9f18063d",
   "metadata": {
    "collapsed": false
   },
   "outputs": [
    {
     "name": "stdout",
     "output_type": "stream",
     "text": [
      "parameter server\n",
      "Actor(ParameterSever, dcca6b312807979d82f222dd01000000)\n",
      "Initial params: [0. 0. 0. 0. 0. 0. 0. 0. 0. 0.]\n",
      "[ObjectRef(641105d6352e1cecffffffffffffffffffffffff0100000001000000), ObjectRef(f173ee62d1d97be7ffffffffffffffffffffffff0100000001000000), ObjectRef(692f535a66884eb7ffffffffffffffffffffffff0100000001000000)]\n",
      "Updated params: [0. 0. 0. 0. 0. 0. 0. 0. 0. 0.]\n",
      "Updated params: [0. 0. 0. 0. 0. 0. 0. 0. 0. 0.]\n",
      "Updated params: [-54. -36. -18. -73. -38. -50. -48. -53. -49. -65.]\n",
      "Updated params: [-54. -36. -18. -73. -38. -50. -48. -53. -49. -65.]\n",
      "Updated params: [-102. -106.  -64. -103. -110.  -97.  -77.  -84.  -92. -102.]\n",
      "Updated params: [-147. -124. -120. -154. -150. -154. -123. -132. -134. -146.]\n",
      "Updated params: [-147. -124. -120. -154. -150. -154. -123. -132. -134. -146.]\n",
      "Updated params: [-159. -170. -172. -202. -217. -207. -163. -208. -136. -173.]\n",
      "Updated params: [-195. -209. -235. -242. -267. -236. -204. -266. -183. -204.]\n",
      "Updated params: [-195. -209. -235. -242. -267. -236. -204. -266. -183. -204.]\n",
      "Updated params: [-246. -277. -269. -290. -298. -309. -272. -327. -206. -259.]\n",
      "Updated params: [-304. -298. -304. -322. -314. -340. -308. -382. -263. -335.]\n",
      "Updated params: [-319. -309. -327. -349. -328. -340. -335. -393. -278. -357.]\n",
      "Updated params: [-353. -359. -331. -375. -343. -345. -354. -402. -327. -406.]\n",
      "Updated params: [-379. -426. -393. -417. -395. -360. -396. -449. -366. -442.]\n",
      "Updated params: [-397. -442. -411. -444. -414. -366. -422. -449. -395. -459.]\n",
      "Updated params: [-428. -465. -423. -482. -459. -400. -452. -488. -414. -484.]\n",
      "Updated params: [-486. -518. -462. -542. -525. -442. -505. -525. -454. -511.]\n",
      "Updated params: [-507. -531. -480. -554. -553. -455. -523. -541. -470. -529.]\n",
      "Updated params: [-523. -569. -514. -602. -579. -485. -557. -571. -484. -556.]\n"
     ]
    }
   ],
   "source": [
    "# Example: Parameter Server distributed application with Ray Actors\n",
    "# Problem: We want to update weights and gradients, computed by workers, at a central server.\n",
    "# Let's use Python class and convert that to a remote Actor class actor as a Parameter Server.\n",
    "# This is a common example in machine learning where you have a central\n",
    "# Parameter server updating gradients from other worker processes computing individual gradients.\n",
    "\n",
    "print('parameter server')\n",
    "@ray.remote\n",
    "class ParameterSever:\n",
    "    def __init__(self):\n",
    "        # Initialized our gradients to zero\n",
    "        self.params = np.zeros(10)\n",
    "\n",
    "    def get_params(self):\n",
    "        # Return current gradients\n",
    "        return self.params\n",
    "\n",
    "    def update_params(self, grad):\n",
    "        # Update the gradients\n",
    "        self.params -= grad\n",
    "\n",
    "# Define a worker or task as a function for a remote Worker. This could be a\n",
    "# machine learning function that computes gradients and sends them to\n",
    "# the parameter server.\n",
    "\n",
    "@ray.remote\n",
    "def worker(ps):         # It takes an actor handle or instance as an argument\n",
    "    # Iterate over some epoch\n",
    "    for i in range(25):\n",
    "        time.sleep(1.5)  # this could be your loss function computing gradients\n",
    "        #grad = np.ones(10)\n",
    "        from numpy import random\n",
    "        grad = random.randint(30, size=(10))\n",
    "        # update the gradients in the parameter server\n",
    "        ps.update_params.remote(grad)\n",
    "\n",
    "# Start our Parameter Server actor. This will be scheduled as a worker process\n",
    "# on a remote Ray node. You invoke its ActorClass.remote(...) to instantiate an\n",
    "# Actor instance of that type.\n",
    "\n",
    "param_server = ParameterSever.remote()\n",
    "print(param_server)\n",
    "\n",
    "# Let's get the initial values of the parameter server\n",
    "print(f\"Initial params: {ray.get(param_server.get_params.remote())}\")\n",
    "\n",
    "# Create Workers remote tasks computing gradients\n",
    "# Let's create three separate worker tasks as our machine learning tasks\n",
    "# that compute gradients. These will be scheduled as tasks on a Ray cluster.\n",
    "\n",
    "# You can use list comprehension.\n",
    "# If we need more workers to scale, we can always bump them up.\n",
    "# Note: We are sending the parameter_server as an argument to the remote worker task.\n",
    "\n",
    "print([worker.remote(param_server) for _ in range(3)])\n",
    "\n",
    "# Now, let's iterate over a loop and query the Parameter Server as the\n",
    "# workers are running independently and updating the gradients\n",
    "\n",
    "for _i in range(20):\n",
    "    print(f\"Updated params: {ray.get(param_server.get_params.remote())}\")\n",
    "    time.sleep(1)"
   ]
  },
  {
   "cell_type": "markdown",
   "id": "e33ffc2cadd7be89",
   "metadata": {
    "collapsed": false
   },
   "source": [
    "## Part 6 - Compute Pi using Monte Carlo method\n",
    "**Excercise:** Based on the previous example, create an actor-based system that can compute Pi using the Monte Carlo method. There should be one supervising actor and computing tasks/actors. \n",
    "\n",
    "Hint: take a look on https://docs.ray.io/en/latest/ray-core/examples/monte_carlo_pi.html . However, we do not want to have progress listed. Instead, we want to see as we get closer to the Pi value in each round.\n",
    "\n",
    "\n",
    "![monte-carlo](img/monte_carlo_pi_sma.png)\n"
   ]
  },
  {
   "cell_type": "code",
   "execution_count": 2,
   "id": "6f48a5bffd5f672b",
   "metadata": {
    "ExecuteTime": {
     "end_time": "2024-03-26T14:47:10.433505900Z",
     "start_time": "2024-03-26T14:47:10.396512Z"
    },
    "collapsed": false
   },
   "outputs": [
    {
     "name": "stderr",
     "output_type": "stream",
     "text": [
      "2024-04-22 11:42:34,871\tINFO worker.py:1752 -- Started a local Ray instance.\n"
     ]
    },
    {
     "name": "stdout",
     "output_type": "stream",
     "text": [
      "0\n",
      "0\n",
      "0\n",
      "0\n",
      "0\n",
      "0\n",
      "0\n",
      "Progress: 3.142276\n"
     ]
    },
    {
     "name": "stderr",
     "output_type": "stream",
     "text": [
      "\u001b[33m(raylet)\u001b[0m [2024-04-22 11:42:43,786 E 18900 18926] (raylet) file_system_monitor.cc:111: /tmp/ray/session_2024-04-22_11-42-32_221309_8628 is over 95% full, available space: 959938560; capacity: 77665726464. Object creation will fail if spilling is required.\n"
     ]
    },
    {
     "name": "stdout",
     "output_type": "stream",
     "text": [
      "Progress: 3.142164\n",
      "Progress: 3.142164\n",
      "Progress: 3.142164\n",
      "Progress: 3.142164\n",
      "Progress: 3.142164\n",
      "Progress: 3.142027111111111\n",
      "Progress: 3.1421455384615387\n",
      "Progress: 3.1418305\n",
      "Progress: 3.1418305\n",
      "Progress: 3.1418305\n"
     ]
    },
    {
     "name": "stderr",
     "output_type": "stream",
     "text": [
      "\u001b[33m(raylet)\u001b[0m [2024-04-22 11:42:53,805 E 18900 18926] (raylet) file_system_monitor.cc:111: /tmp/ray/session_2024-04-22_11-42-32_221309_8628 is over 95% full, available space: 961794048; capacity: 77665726464. Object creation will fail if spilling is required.\n"
     ]
    },
    {
     "name": "stdout",
     "output_type": "stream",
     "text": [
      "Progress: 3.1418305\n",
      "Progress: 3.1418305\n",
      "Progress: 3.1418305\n",
      "Progress: 3.1418305\n",
      "Progress: 3.1418305\n",
      "Progress: 3.1418268888888887\n",
      "Progress: 3.1417023636363637\n",
      "Progress: 3.1418826666666666\n",
      "Progress: 3.1418826666666666\n",
      "Progress: 3.1418826666666666\n"
     ]
    },
    {
     "name": "stderr",
     "output_type": "stream",
     "text": [
      "\u001b[33m(raylet)\u001b[0m [2024-04-22 11:43:03,847 E 18900 18926] (raylet) file_system_monitor.cc:111: /tmp/ray/session_2024-04-22_11-42-32_221309_8628 is over 95% full, available space: 960819200; capacity: 77665726464. Object creation will fail if spilling is required.\n"
     ]
    },
    {
     "name": "stdout",
     "output_type": "stream",
     "text": [
      "Progress: 3.1418826666666666\n",
      "Progress: 3.1418826666666666\n",
      "Progress: 3.1418826666666666\n",
      "Progress: 3.1418826666666666\n",
      "Progress: 3.1418826666666666\n",
      "Progress: 3.1418826666666666\n",
      "Progress: 3.141856148148148\n",
      "Progress: 3.1418268\n",
      "Progress: 3.141795125\n",
      "Progress: 3.141795125\n"
     ]
    },
    {
     "name": "stderr",
     "output_type": "stream",
     "text": [
      "\u001b[33m(raylet)\u001b[0m [2024-04-22 11:43:13,864 E 18900 18926] (raylet) file_system_monitor.cc:111: /tmp/ray/session_2024-04-22_11-42-32_221309_8628 is over 95% full, available space: 960471040; capacity: 77665726464. Object creation will fail if spilling is required.\n"
     ]
    },
    {
     "name": "stdout",
     "output_type": "stream",
     "text": [
      "Progress: 3.141795125\n",
      "Progress: 3.141795125\n",
      "Progress: 3.141795125\n",
      "Progress: 3.141795125\n",
      "Progress: 3.141821333333333\n",
      "Progress: 3.1418211428571428\n",
      "Progress: 3.1416663783783783\n",
      "Progress: 3.141790769230769\n",
      "Progress: 3.1417771\n",
      "Progress: 3.1417771\n"
     ]
    },
    {
     "name": "stderr",
     "output_type": "stream",
     "text": [
      "\u001b[33m(raylet)\u001b[0m [2024-04-22 11:43:23,888 E 18900 18926] (raylet) file_system_monitor.cc:111: /tmp/ray/session_2024-04-22_11-42-32_221309_8628 is over 95% full, available space: 960282624; capacity: 77665726464. Object creation will fail if spilling is required.\n"
     ]
    },
    {
     "name": "stdout",
     "output_type": "stream",
     "text": [
      "Progress: 3.1417771\n",
      "Progress: 3.1417771\n",
      "Progress: 3.1417771\n",
      "Progress: 3.1417880975609758\n",
      "Progress: 3.141804093023256\n",
      "Progress: 3.141766666666667\n",
      "Progress: 3.141768416666667\n",
      "Progress: 3.141768416666667\n",
      "Progress: 3.141768416666667\n",
      "Progress: 3.141768416666667\n"
     ]
    },
    {
     "name": "stderr",
     "output_type": "stream",
     "text": [
      "\u001b[33m(raylet)\u001b[0m [2024-04-22 11:43:33,903 E 18900 18926] (raylet) file_system_monitor.cc:111: /tmp/ray/session_2024-04-22_11-42-32_221309_8628 is over 95% full, available space: 960253952; capacity: 77665726464. Object creation will fail if spilling is required.\n"
     ]
    },
    {
     "name": "stdout",
     "output_type": "stream",
     "text": [
      "Progress: 3.141768416666667\n",
      "Progress: 3.1417702857142857\n",
      "Progress: 3.1417696\n",
      "Progress: 3.141714431372549\n",
      "Progress: 3.1416916923076923\n",
      "Progress: 3.141664509090909\n",
      "Progress: 3.141670357142857\n",
      "Progress: 3.141670357142857\n",
      "Progress: 3.141670357142857\n",
      "Progress: 3.141670357142857\n"
     ]
    },
    {
     "name": "stderr",
     "output_type": "stream",
     "text": [
      "\u001b[33m(raylet)\u001b[0m [2024-04-22 11:43:43,913 E 18900 18926] (raylet) file_system_monitor.cc:111: /tmp/ray/session_2024-04-22_11-42-32_221309_8628 is over 95% full, available space: 958455808; capacity: 77665726464. Object creation will fail if spilling is required.\n"
     ]
    },
    {
     "name": "stdout",
     "output_type": "stream",
     "text": [
      "Progress: 3.141695438596491\n",
      "Progress: 3.141695438596491\n",
      "Progress: 3.1416768965517243\n",
      "Progress: 3.1417072\n",
      "Progress: 3.1417072\n",
      "Progress: 3.141723375\n",
      "Progress: 3.141723375\n",
      "Progress: 3.141723375\n",
      "Progress: 3.141723375\n",
      "Progress: 3.141729476923077\n"
     ]
    },
    {
     "name": "stderr",
     "output_type": "stream",
     "text": [
      "\u001b[33m(raylet)\u001b[0m [2024-04-22 11:43:53,928 E 18900 18926] (raylet) file_system_monitor.cc:111: /tmp/ray/session_2024-04-22_11-42-32_221309_8628 is over 95% full, available space: 958144512; capacity: 77665726464. Object creation will fail if spilling is required.\n"
     ]
    },
    {
     "name": "stdout",
     "output_type": "stream",
     "text": [
      "Progress: 3.141729476923077\n",
      "Progress: 3.141715212121212\n",
      "Progress: 3.1416701176470587\n",
      "Progress: 3.1416701176470587\n",
      "Progress: 3.141681277777778\n",
      "Progress: 3.141681277777778\n",
      "Progress: 3.141681277777778\n",
      "Progress: 3.141681277777778\n",
      "Progress: 3.1416953424657534\n",
      "Progress: 3.1416953424657534\n"
     ]
    },
    {
     "name": "stderr",
     "output_type": "stream",
     "text": [
      "\u001b[33m(raylet)\u001b[0m [2024-04-22 11:44:03,956 E 18900 18926] (raylet) file_system_monitor.cc:111: /tmp/ray/session_2024-04-22_11-42-32_221309_8628 is over 95% full, available space: 958148608; capacity: 77665726464. Object creation will fail if spilling is required.\n"
     ]
    },
    {
     "name": "stdout",
     "output_type": "stream",
     "text": [
      "Progress: 3.141691243243243\n",
      "Progress: 3.141648373333333\n",
      "Progress: 3.1416257368421054\n",
      "Progress: 3.1416216\n",
      "Progress: 3.141632148148148\n",
      "Progress: 3.141620243902439\n",
      "Progress: 3.141620243902439\n",
      "Progress: 3.141620243902439\n",
      "Progress: 3.1416372048192773\n",
      "Progress: 3.141616142857143\n"
     ]
    },
    {
     "name": "stderr",
     "output_type": "stream",
     "text": [
      "\u001b[33m(raylet)\u001b[0m [2024-04-22 11:44:13,964 E 18900 18926] (raylet) file_system_monitor.cc:111: /tmp/ray/session_2024-04-22_11-42-32_221309_8628 is over 95% full, available space: 953671680; capacity: 77665726464. Object creation will fail if spilling is required.\n"
     ]
    },
    {
     "name": "stdout",
     "output_type": "stream",
     "text": [
      "Progress: 3.141616142857143\n",
      "Progress: 3.141616142857143\n",
      "Progress: 3.141643717647059\n",
      "Progress: 3.141597395348837\n",
      "Progress: 3.141597395348837\n",
      "Progress: 3.1416230344827585\n",
      "Progress: 3.141640136363636\n",
      "Progress: 3.141640136363636\n",
      "Progress: 3.141640136363636\n",
      "Progress: 3.1416549662921347\n"
     ]
    },
    {
     "name": "stderr",
     "output_type": "stream",
     "text": [
      "\u001b[33m(raylet)\u001b[0m [2024-04-22 11:44:23,973 E 18900 18926] (raylet) file_system_monitor.cc:111: /tmp/ray/session_2024-04-22_11-42-32_221309_8628 is over 95% full, available space: 953311232; capacity: 77665726464. Object creation will fail if spilling is required.\n"
     ]
    },
    {
     "name": "stdout",
     "output_type": "stream",
     "text": [
      "Progress: 3.1416797333333335\n",
      "Progress: 3.1416797333333335\n",
      "Progress: 3.141683076923077\n",
      "Progress: 3.141683076923077\n",
      "Progress: 3.1417020869565215\n",
      "Progress: 3.1417020869565215\n",
      "Progress: 3.1417217204301076\n",
      "Progress: 3.141701234042553\n",
      "Progress: 3.141701234042553\n",
      "Progress: 3.141705010526316\n"
     ]
    },
    {
     "name": "stderr",
     "output_type": "stream",
     "text": [
      "\u001b[33m(raylet)\u001b[0m [2024-04-22 11:44:33,980 E 18900 18926] (raylet) file_system_monitor.cc:111: /tmp/ray/session_2024-04-22_11-42-32_221309_8628 is over 95% full, available space: 953294848; capacity: 77665726464. Object creation will fail if spilling is required.\n"
     ]
    },
    {
     "name": "stdout",
     "output_type": "stream",
     "text": [
      "Progress: 3.141705010526316\n",
      "Progress: 3.1416888333333333\n",
      "Progress: 3.1416888333333333\n",
      "Progress: 3.1416641649484536\n",
      "Progress: 3.1416315102040815\n",
      "Progress: 3.1416315102040815\n",
      "Progress: 3.141616484848485\n",
      "Progress: 3.1416334\n",
      "Estimated value of π is: 3.1416334\n"
     ]
    },
    {
     "name": "stderr",
     "output_type": "stream",
     "text": [
      "\u001b[33m(raylet)\u001b[0m [2024-04-22 11:44:43,991 E 18900 18926] (raylet) file_system_monitor.cc:111: /tmp/ray/session_2024-04-22_11-42-32_221309_8628 is over 95% full, available space: 953192448; capacity: 77665726464. Object creation will fail if spilling is required.\n",
      "\u001b[33m(raylet)\u001b[0m [2024-04-22 11:44:54,005 E 18900 18926] (raylet) file_system_monitor.cc:111: /tmp/ray/session_2024-04-22_11-42-32_221309_8628 is over 95% full, available space: 953196544; capacity: 77665726464. Object creation will fail if spilling is required.\n",
      "\u001b[33m(raylet)\u001b[0m [2024-04-22 11:45:04,020 E 18900 18926] (raylet) file_system_monitor.cc:111: /tmp/ray/session_2024-04-22_11-42-32_221309_8628 is over 95% full, available space: 953192448; capacity: 77665726464. Object creation will fail if spilling is required.\n",
      "\u001b[33m(raylet)\u001b[0m [2024-04-22 11:45:14,032 E 18900 18926] (raylet) file_system_monitor.cc:111: /tmp/ray/session_2024-04-22_11-42-32_221309_8628 is over 95% full, available space: 953184256; capacity: 77665726464. Object creation will fail if spilling is required.\n",
      "\u001b[33m(raylet)\u001b[0m [2024-04-22 11:45:24,043 E 18900 18926] (raylet) file_system_monitor.cc:111: /tmp/ray/session_2024-04-22_11-42-32_221309_8628 is over 95% full, available space: 953180160; capacity: 77665726464. Object creation will fail if spilling is required.\n",
      "\u001b[33m(raylet)\u001b[0m [2024-04-22 11:45:34,056 E 18900 18926] (raylet) file_system_monitor.cc:111: /tmp/ray/session_2024-04-22_11-42-32_221309_8628 is over 95% full, available space: 953155584; capacity: 77665726464. Object creation will fail if spilling is required.\n",
      "\u001b[33m(raylet)\u001b[0m [2024-04-22 11:45:44,068 E 18900 18926] (raylet) file_system_monitor.cc:111: /tmp/ray/session_2024-04-22_11-42-32_221309_8628 is over 95% full, available space: 952979456; capacity: 77665726464. Object creation will fail if spilling is required.\n"
     ]
    }
   ],
   "source": [
    "@ray.remote\n",
    "class ProgressActor:\n",
    "    def __init__(self, total_num_samples: int):\n",
    "        self.total_num_samples = total_num_samples\n",
    "        self.num_samples_completed_per_task = {}\n",
    "        self.num_samples_in = {}\n",
    "\n",
    "    def report_progress(self, task_id: int, num_samples_completed: int, num_samples_in) -> None:\n",
    "        self.num_samples_completed_per_task[task_id] = num_samples_completed\n",
    "        self.num_samples_in[task_id] = num_samples_in\n",
    "\n",
    "    def get_progress(self) -> float:\n",
    "        return (\n",
    "            sum(self.num_samples_completed_per_task.values()),\n",
    "            sum(self.num_samples_in.values())\n",
    "        )\n",
    "\n",
    "@ray.remote\n",
    "def sampling_task(num_samples: int, task_id: int,\n",
    "                  progress_actor: ray.actor.ActorHandle) -> int:\n",
    "    num_inside = 0\n",
    "    for i in range(num_samples):\n",
    "        x, y = random.uniform(-1, 1), random.uniform(-1, 1)\n",
    "        if math.hypot(x, y) <= 1:\n",
    "            num_inside += 1\n",
    "\n",
    "        # Report progress every 1 million samples.\n",
    "        if (i + 1) % 1_000_000 == 0:\n",
    "            # This is async.\n",
    "            progress_actor.report_progress.remote(task_id, i + 1, num_inside)\n",
    "\n",
    "    # Report the final progress.\n",
    "    progress_actor.report_progress.remote(task_id, num_samples, num_inside)\n",
    "    return num_inside\n",
    "    \n",
    "# Change this to match your cluster scale.\n",
    "NUM_SAMPLING_TASKS = 10\n",
    "NUM_SAMPLES_PER_TASK = 10_000_000\n",
    "TOTAL_NUM_SAMPLES = NUM_SAMPLING_TASKS * NUM_SAMPLES_PER_TASK\n",
    "\n",
    "# Create the progress actor.\n",
    "progress_actor = ProgressActor.remote(TOTAL_NUM_SAMPLES)\n",
    "\n",
    "# Create and execute all sampling tasks in parallel.\n",
    "results = [\n",
    "    sampling_task.remote(NUM_SAMPLES_PER_TASK, i, progress_actor)\n",
    "    for i in range(NUM_SAMPLING_TASKS)\n",
    "]\n",
    "\n",
    "# Query progress periodically.\n",
    "while True:\n",
    "    all, good = ray.get(progress_actor.get_progress.remote())\n",
    "    \n",
    "    if all == 0:\n",
    "        print(0)\n",
    "        time.sleep(1)\n",
    "        continue\n",
    "    print(f\"Progress: {4 * good / all}\")\n",
    "    if all == TOTAL_NUM_SAMPLES:\n",
    "        break\n",
    "\n",
    "    time.sleep(1)\n",
    "# Get all the sampling tasks results.\n",
    "total_num_inside = sum(ray.get(results))\n",
    "pi = (total_num_inside * 4) / TOTAL_NUM_SAMPLES\n",
    "print(f\"Estimated value of π is: {pi}\")"
   ]
  },
  {
   "cell_type": "markdown",
   "id": "2579f4f51268ecf4",
   "metadata": {
    "collapsed": false
   },
   "source": [
    "## Part 7 - Parallel merge sort (homework)\n",
    "**Excercise:** Based on the previous examples, create a sequential and parallel implementation of the merge sort algorithm. You can choose any version of the parallel algorithm. Compare performance.\n"
   ]
  },
  {
   "cell_type": "code",
   "execution_count": 90,
   "id": "7ce9efea664b6b55",
   "metadata": {
    "collapsed": false
   },
   "outputs": [],
   "source": [
    "def merge(left, right):\n",
    "    merged = []\n",
    "    left_index = right_index = 0\n",
    "\n",
    "    while left_index < len(left) and right_index < len(right):\n",
    "        if left[left_index] < right[right_index]:\n",
    "            merged.append(left[left_index])\n",
    "            left_index += 1\n",
    "        else:\n",
    "            merged.append(right[right_index])\n",
    "            right_index += 1\n",
    "\n",
    "    merged.extend(left[left_index:])\n",
    "    merged.extend(right[right_index:])\n",
    "\n",
    "    return merged\n",
    "\n",
    "def merge_sort(arr):\n",
    "    if len(arr) <= 1:\n",
    "        return arr\n",
    "\n",
    "    mid = len(arr) // 2\n",
    "    left_half = arr[:mid]\n",
    "    right_half = arr[mid:]\n",
    "\n",
    "    left_half = merge_sort(left_half)\n",
    "    right_half = merge_sort(right_half)\n",
    "\n",
    "    return merge(left_half, right_half)"
   ]
  },
  {
   "cell_type": "code",
   "execution_count": 98,
   "id": "368fbd40",
   "metadata": {},
   "outputs": [],
   "source": [
    "@ray.remote\n",
    "def worker(arr):\n",
    "    arr = merge_sort(arr)\n",
    "    return arr\n",
    "\n",
    "def merge_iteration(arr):\n",
    "    \n",
    "    while len(arr) > 1:\n",
    "        res = []\n",
    "        for i in range(0, len(arr), 2):\n",
    "            if (i + 1) != len(arr):\n",
    "                res.append(merge(arr[i], arr[i + 1]))\n",
    "            else:\n",
    "                res.append(arr[i])\n",
    "        arr = res\n",
    "    return arr[0]\n",
    "\n",
    "def merge_sort_ray(arr, len_for_worker, num_workers):\n",
    "    workers = []\n",
    "    for i in range(num_workers):\n",
    "        if i != num_workers - 1:\n",
    "            workers.append(worker.remote(arr[i * len_for_worker:(i + 1) * len_for_worker]))\n",
    "        else:\n",
    "            workers.append(worker.remote(arr[i * len_for_worker:len(arr)]))\n",
    "    sorted = ray.get(workers)\n",
    "    return merge_iteration(sorted)"
   ]
  },
  {
   "cell_type": "code",
   "execution_count": 99,
   "id": "d414cb17",
   "metadata": {},
   "outputs": [
    {
     "name": "stdout",
     "output_type": "stream",
     "text": [
      "Parallel merge sort:  1.7881488800048828\n",
      "Normal merge sort:  4.713505983352661\n"
     ]
    }
   ],
   "source": [
    "arr = [random.randint(0, 1000) for _ in range(1000000)]\n",
    "\n",
    "# print(\"Lista przed sortowaniem:\", arr)\n",
    "\n",
    "workers = 10\n",
    "len_for_worker = len(arr) // workers\n",
    "\n",
    "start_time = time.time()\n",
    "sorted_arr = merge_sort_ray(arr,len_for_worker, workers)\n",
    "end_time = time.time()\n",
    "\n",
    "duration = end_time - start_time\n",
    "# print(\"Lista po sortowaniu:\", sorted_arr)\n",
    "print(\"Parallel merge sort: \", duration)\n",
    "\n",
    "arr2 = [random.randint(0, 1000) for _ in range(1000000)]\n",
    "start_time = time.time()\n",
    "sorted_arr2 = merge_sort(arr2)\n",
    "end_time = time.time()\n",
    "duration = end_time - start_time\n",
    "# print(\"Lista po sortowaniu:\", sorted_arr2)\n",
    "print(\"Normal merge sort: \", duration)"
   ]
  },
  {
   "cell_type": "markdown",
   "id": "101c2cbed54a8673",
   "metadata": {
    "collapsed": false
   },
   "source": []
  },
  {
   "cell_type": "markdown",
   "id": "61ff181af23dc9e0",
   "metadata": {
    "collapsed": false
   },
   "source": [
    "## Clean up  - Clean up the environemnt\n",
    "\n",
    "**GOAL:** The goal of this exercise is to close the environment once you finish play with ray `ray.shutdown`."
   ]
  },
  {
   "cell_type": "code",
   "execution_count": 3,
   "id": "fc7e639a185eeb37",
   "metadata": {
    "collapsed": false
   },
   "outputs": [],
   "source": [
    "ray.shutdown()"
   ]
  }
 ],
 "metadata": {
  "kernelspec": {
   "display_name": "Python 3",
   "language": "python",
   "name": "python3"
  },
  "language_info": {
   "codemirror_mode": {
    "name": "ipython",
    "version": 3
   },
   "file_extension": ".py",
   "mimetype": "text/x-python",
   "name": "python",
   "nbconvert_exporter": "python",
   "pygments_lexer": "ipython3",
   "version": "3.10.12"
  }
 },
 "nbformat": 4,
 "nbformat_minor": 5
}
